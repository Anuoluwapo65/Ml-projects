{
 "cells": [
  {
   "cell_type": "code",
   "execution_count": 1,
   "id": "6565eed6-ad12-4fa6-8013-9da9e18e619d",
   "metadata": {},
   "outputs": [],
   "source": [
    "import pandas as pd\n",
    "import numpy as np\n",
    "import seaborn as sns\n",
    "from sklearn.model_selection import train_test_split\n",
    "from sklearn.linear_model import LinearRegression"
   ]
  },
  {
   "cell_type": "code",
   "execution_count": 2,
   "id": "287f89ad-f1cb-4cf6-8b18-55d43ed328ae",
   "metadata": {},
   "outputs": [
    {
     "data": {
      "text/html": [
       "<div>\n",
       "<style scoped>\n",
       "    .dataframe tbody tr th:only-of-type {\n",
       "        vertical-align: middle;\n",
       "    }\n",
       "\n",
       "    .dataframe tbody tr th {\n",
       "        vertical-align: top;\n",
       "    }\n",
       "\n",
       "    .dataframe thead th {\n",
       "        text-align: right;\n",
       "    }\n",
       "</style>\n",
       "<table border=\"1\" class=\"dataframe\">\n",
       "  <thead>\n",
       "    <tr style=\"text-align: right;\">\n",
       "      <th></th>\n",
       "      <th>engine_displacement</th>\n",
       "      <th>num_cylinders</th>\n",
       "      <th>horsepower</th>\n",
       "      <th>vehicle_weight</th>\n",
       "      <th>acceleration</th>\n",
       "      <th>model_year</th>\n",
       "      <th>origin</th>\n",
       "      <th>fuel_type</th>\n",
       "      <th>drivetrain</th>\n",
       "      <th>num_doors</th>\n",
       "      <th>fuel_efficiency_mpg</th>\n",
       "    </tr>\n",
       "  </thead>\n",
       "  <tbody>\n",
       "    <tr>\n",
       "      <th>0</th>\n",
       "      <td>170</td>\n",
       "      <td>3.0</td>\n",
       "      <td>159.0</td>\n",
       "      <td>3413.433759</td>\n",
       "      <td>17.7</td>\n",
       "      <td>2003</td>\n",
       "      <td>Europe</td>\n",
       "      <td>Gasoline</td>\n",
       "      <td>All-wheel drive</td>\n",
       "      <td>0.0</td>\n",
       "      <td>13.231729</td>\n",
       "    </tr>\n",
       "    <tr>\n",
       "      <th>1</th>\n",
       "      <td>130</td>\n",
       "      <td>5.0</td>\n",
       "      <td>97.0</td>\n",
       "      <td>3149.664934</td>\n",
       "      <td>17.8</td>\n",
       "      <td>2007</td>\n",
       "      <td>USA</td>\n",
       "      <td>Gasoline</td>\n",
       "      <td>Front-wheel drive</td>\n",
       "      <td>0.0</td>\n",
       "      <td>13.688217</td>\n",
       "    </tr>\n",
       "    <tr>\n",
       "      <th>2</th>\n",
       "      <td>170</td>\n",
       "      <td>NaN</td>\n",
       "      <td>78.0</td>\n",
       "      <td>3079.038997</td>\n",
       "      <td>15.1</td>\n",
       "      <td>2018</td>\n",
       "      <td>Europe</td>\n",
       "      <td>Gasoline</td>\n",
       "      <td>Front-wheel drive</td>\n",
       "      <td>0.0</td>\n",
       "      <td>14.246341</td>\n",
       "    </tr>\n",
       "    <tr>\n",
       "      <th>3</th>\n",
       "      <td>220</td>\n",
       "      <td>4.0</td>\n",
       "      <td>NaN</td>\n",
       "      <td>2542.392402</td>\n",
       "      <td>20.2</td>\n",
       "      <td>2009</td>\n",
       "      <td>USA</td>\n",
       "      <td>Diesel</td>\n",
       "      <td>All-wheel drive</td>\n",
       "      <td>2.0</td>\n",
       "      <td>16.912736</td>\n",
       "    </tr>\n",
       "    <tr>\n",
       "      <th>4</th>\n",
       "      <td>210</td>\n",
       "      <td>1.0</td>\n",
       "      <td>140.0</td>\n",
       "      <td>3460.870990</td>\n",
       "      <td>14.4</td>\n",
       "      <td>2009</td>\n",
       "      <td>Europe</td>\n",
       "      <td>Gasoline</td>\n",
       "      <td>All-wheel drive</td>\n",
       "      <td>2.0</td>\n",
       "      <td>12.488369</td>\n",
       "    </tr>\n",
       "  </tbody>\n",
       "</table>\n",
       "</div>"
      ],
      "text/plain": [
       "   engine_displacement  num_cylinders  horsepower  vehicle_weight  \\\n",
       "0                  170            3.0       159.0     3413.433759   \n",
       "1                  130            5.0        97.0     3149.664934   \n",
       "2                  170            NaN        78.0     3079.038997   \n",
       "3                  220            4.0         NaN     2542.392402   \n",
       "4                  210            1.0       140.0     3460.870990   \n",
       "\n",
       "   acceleration  model_year  origin fuel_type         drivetrain  num_doors  \\\n",
       "0          17.7        2003  Europe  Gasoline    All-wheel drive        0.0   \n",
       "1          17.8        2007     USA  Gasoline  Front-wheel drive        0.0   \n",
       "2          15.1        2018  Europe  Gasoline  Front-wheel drive        0.0   \n",
       "3          20.2        2009     USA    Diesel    All-wheel drive        2.0   \n",
       "4          14.4        2009  Europe  Gasoline    All-wheel drive        2.0   \n",
       "\n",
       "   fuel_efficiency_mpg  \n",
       "0            13.231729  \n",
       "1            13.688217  \n",
       "2            14.246341  \n",
       "3            16.912736  \n",
       "4            12.488369  "
      ]
     },
     "execution_count": 2,
     "metadata": {},
     "output_type": "execute_result"
    }
   ],
   "source": [
    "car = pd.read_csv(\"https://raw.githubusercontent.com/alexeygrigorev/datasets/master/car_fuel_efficiency.csv\")\n",
    "car.head()"
   ]
  },
  {
   "cell_type": "code",
   "execution_count": 3,
   "id": "d9012f3d-14d1-40b5-9c24-a712ef8db386",
   "metadata": {},
   "outputs": [
    {
     "data": {
      "text/plain": [
       "Index(['engine_displacement', 'num_cylinders', 'horsepower', 'vehicle_weight',\n",
       "       'acceleration', 'model_year', 'origin', 'fuel_type', 'drivetrain',\n",
       "       'num_doors', 'fuel_efficiency_mpg'],\n",
       "      dtype='object')"
      ]
     },
     "execution_count": 3,
     "metadata": {},
     "output_type": "execute_result"
    }
   ],
   "source": [
    "car.columns"
   ]
  },
  {
   "cell_type": "code",
   "execution_count": 4,
   "id": "b57620fb-5941-4f67-9ac1-a79014fac406",
   "metadata": {},
   "outputs": [
    {
     "data": {
      "text/plain": [
       "<bound method DataFrame.info of       engine_displacement  num_cylinders  horsepower  vehicle_weight  \\\n",
       "0                     170            3.0       159.0     3413.433759   \n",
       "1                     130            5.0        97.0     3149.664934   \n",
       "2                     170            NaN        78.0     3079.038997   \n",
       "3                     220            4.0         NaN     2542.392402   \n",
       "4                     210            1.0       140.0     3460.870990   \n",
       "...                   ...            ...         ...             ...   \n",
       "9699                  140            5.0       164.0     2981.107371   \n",
       "9700                  180            NaN       154.0     2439.525729   \n",
       "9701                  220            2.0       138.0     2583.471318   \n",
       "9702                  230            4.0       177.0     2905.527390   \n",
       "9703                  270            3.0       140.0     2908.043477   \n",
       "\n",
       "      acceleration  model_year  origin fuel_type         drivetrain  \\\n",
       "0             17.7        2003  Europe  Gasoline    All-wheel drive   \n",
       "1             17.8        2007     USA  Gasoline  Front-wheel drive   \n",
       "2             15.1        2018  Europe  Gasoline  Front-wheel drive   \n",
       "3             20.2        2009     USA    Diesel    All-wheel drive   \n",
       "4             14.4        2009  Europe  Gasoline    All-wheel drive   \n",
       "...            ...         ...     ...       ...                ...   \n",
       "9699          17.3        2013  Europe    Diesel  Front-wheel drive   \n",
       "9700          15.0        2004     USA  Gasoline    All-wheel drive   \n",
       "9701          15.1        2008     USA    Diesel    All-wheel drive   \n",
       "9702          19.4        2011     USA    Diesel  Front-wheel drive   \n",
       "9703          14.7        2005    Asia    Diesel    All-wheel drive   \n",
       "\n",
       "      num_doors  fuel_efficiency_mpg  \n",
       "0           0.0            13.231729  \n",
       "1           0.0            13.688217  \n",
       "2           0.0            14.246341  \n",
       "3           2.0            16.912736  \n",
       "4           2.0            12.488369  \n",
       "...         ...                  ...  \n",
       "9699        NaN            15.101802  \n",
       "9700        0.0            17.962326  \n",
       "9701       -1.0            17.186587  \n",
       "9702        1.0            15.331551  \n",
       "9703       -1.0            14.884467  \n",
       "\n",
       "[9704 rows x 11 columns]>"
      ]
     },
     "execution_count": 4,
     "metadata": {},
     "output_type": "execute_result"
    }
   ],
   "source": [
    "car.info"
   ]
  },
  {
   "cell_type": "code",
   "execution_count": 5,
   "id": "4ed51c59-73e8-406e-bd4a-eb4e82858dcb",
   "metadata": {},
   "outputs": [
    {
     "name": "stdout",
     "output_type": "stream",
     "text": [
      "<class 'pandas.core.frame.DataFrame'>\n",
      "RangeIndex: 9704 entries, 0 to 9703\n",
      "Data columns (total 11 columns):\n",
      " #   Column               Non-Null Count  Dtype  \n",
      "---  ------               --------------  -----  \n",
      " 0   engine_displacement  9704 non-null   int64  \n",
      " 1   num_cylinders        9222 non-null   float64\n",
      " 2   horsepower           8996 non-null   float64\n",
      " 3   vehicle_weight       9704 non-null   float64\n",
      " 4   acceleration         8774 non-null   float64\n",
      " 5   model_year           9704 non-null   int64  \n",
      " 6   origin               9704 non-null   object \n",
      " 7   fuel_type            9704 non-null   object \n",
      " 8   drivetrain           9704 non-null   object \n",
      " 9   num_doors            9202 non-null   float64\n",
      " 10  fuel_efficiency_mpg  9704 non-null   float64\n",
      "dtypes: float64(6), int64(2), object(3)\n",
      "memory usage: 834.1+ KB\n"
     ]
    }
   ],
   "source": [
    "car.info()"
   ]
  },
  {
   "cell_type": "code",
   "execution_count": 6,
   "id": "9fbcf115-f406-44b7-b0b4-d59cd1fa2e1b",
   "metadata": {},
   "outputs": [
    {
     "data": {
      "text/html": [
       "<div>\n",
       "<style scoped>\n",
       "    .dataframe tbody tr th:only-of-type {\n",
       "        vertical-align: middle;\n",
       "    }\n",
       "\n",
       "    .dataframe tbody tr th {\n",
       "        vertical-align: top;\n",
       "    }\n",
       "\n",
       "    .dataframe thead th {\n",
       "        text-align: right;\n",
       "    }\n",
       "</style>\n",
       "<table border=\"1\" class=\"dataframe\">\n",
       "  <thead>\n",
       "    <tr style=\"text-align: right;\">\n",
       "      <th></th>\n",
       "      <th>engine_displacement</th>\n",
       "      <th>num_cylinders</th>\n",
       "      <th>horsepower</th>\n",
       "      <th>vehicle_weight</th>\n",
       "      <th>acceleration</th>\n",
       "      <th>model_year</th>\n",
       "      <th>num_doors</th>\n",
       "      <th>fuel_efficiency_mpg</th>\n",
       "    </tr>\n",
       "  </thead>\n",
       "  <tbody>\n",
       "    <tr>\n",
       "      <th>count</th>\n",
       "      <td>9704.000000</td>\n",
       "      <td>9222.000000</td>\n",
       "      <td>8996.000000</td>\n",
       "      <td>9704.000000</td>\n",
       "      <td>8774.000000</td>\n",
       "      <td>9704.000000</td>\n",
       "      <td>9202.000000</td>\n",
       "      <td>9704.000000</td>\n",
       "    </tr>\n",
       "    <tr>\n",
       "      <th>mean</th>\n",
       "      <td>199.708368</td>\n",
       "      <td>3.962481</td>\n",
       "      <td>149.657292</td>\n",
       "      <td>3001.280993</td>\n",
       "      <td>15.021928</td>\n",
       "      <td>2011.484027</td>\n",
       "      <td>-0.006412</td>\n",
       "      <td>14.985243</td>\n",
       "    </tr>\n",
       "    <tr>\n",
       "      <th>std</th>\n",
       "      <td>49.455319</td>\n",
       "      <td>1.999323</td>\n",
       "      <td>29.879555</td>\n",
       "      <td>497.894860</td>\n",
       "      <td>2.510339</td>\n",
       "      <td>6.659808</td>\n",
       "      <td>1.048162</td>\n",
       "      <td>2.556468</td>\n",
       "    </tr>\n",
       "    <tr>\n",
       "      <th>min</th>\n",
       "      <td>10.000000</td>\n",
       "      <td>0.000000</td>\n",
       "      <td>37.000000</td>\n",
       "      <td>952.681761</td>\n",
       "      <td>6.000000</td>\n",
       "      <td>2000.000000</td>\n",
       "      <td>-4.000000</td>\n",
       "      <td>6.200971</td>\n",
       "    </tr>\n",
       "    <tr>\n",
       "      <th>25%</th>\n",
       "      <td>170.000000</td>\n",
       "      <td>3.000000</td>\n",
       "      <td>130.000000</td>\n",
       "      <td>2666.248985</td>\n",
       "      <td>13.300000</td>\n",
       "      <td>2006.000000</td>\n",
       "      <td>-1.000000</td>\n",
       "      <td>13.267459</td>\n",
       "    </tr>\n",
       "    <tr>\n",
       "      <th>50%</th>\n",
       "      <td>200.000000</td>\n",
       "      <td>4.000000</td>\n",
       "      <td>149.000000</td>\n",
       "      <td>2993.226296</td>\n",
       "      <td>15.000000</td>\n",
       "      <td>2012.000000</td>\n",
       "      <td>0.000000</td>\n",
       "      <td>15.006037</td>\n",
       "    </tr>\n",
       "    <tr>\n",
       "      <th>75%</th>\n",
       "      <td>230.000000</td>\n",
       "      <td>5.000000</td>\n",
       "      <td>170.000000</td>\n",
       "      <td>3334.957039</td>\n",
       "      <td>16.700000</td>\n",
       "      <td>2017.000000</td>\n",
       "      <td>1.000000</td>\n",
       "      <td>16.707965</td>\n",
       "    </tr>\n",
       "    <tr>\n",
       "      <th>max</th>\n",
       "      <td>380.000000</td>\n",
       "      <td>13.000000</td>\n",
       "      <td>271.000000</td>\n",
       "      <td>4739.077089</td>\n",
       "      <td>24.300000</td>\n",
       "      <td>2023.000000</td>\n",
       "      <td>4.000000</td>\n",
       "      <td>25.967222</td>\n",
       "    </tr>\n",
       "  </tbody>\n",
       "</table>\n",
       "</div>"
      ],
      "text/plain": [
       "       engine_displacement  num_cylinders   horsepower  vehicle_weight  \\\n",
       "count          9704.000000    9222.000000  8996.000000     9704.000000   \n",
       "mean            199.708368       3.962481   149.657292     3001.280993   \n",
       "std              49.455319       1.999323    29.879555      497.894860   \n",
       "min              10.000000       0.000000    37.000000      952.681761   \n",
       "25%             170.000000       3.000000   130.000000     2666.248985   \n",
       "50%             200.000000       4.000000   149.000000     2993.226296   \n",
       "75%             230.000000       5.000000   170.000000     3334.957039   \n",
       "max             380.000000      13.000000   271.000000     4739.077089   \n",
       "\n",
       "       acceleration   model_year    num_doors  fuel_efficiency_mpg  \n",
       "count   8774.000000  9704.000000  9202.000000          9704.000000  \n",
       "mean      15.021928  2011.484027    -0.006412            14.985243  \n",
       "std        2.510339     6.659808     1.048162             2.556468  \n",
       "min        6.000000  2000.000000    -4.000000             6.200971  \n",
       "25%       13.300000  2006.000000    -1.000000            13.267459  \n",
       "50%       15.000000  2012.000000     0.000000            15.006037  \n",
       "75%       16.700000  2017.000000     1.000000            16.707965  \n",
       "max       24.300000  2023.000000     4.000000            25.967222  "
      ]
     },
     "execution_count": 6,
     "metadata": {},
     "output_type": "execute_result"
    }
   ],
   "source": [
    "car.describe()"
   ]
  },
  {
   "cell_type": "code",
   "execution_count": 7,
   "id": "f6085b77-9887-4e22-b212-42b2b51dd1c9",
   "metadata": {},
   "outputs": [
    {
     "data": {
      "text/html": [
       "<div>\n",
       "<style scoped>\n",
       "    .dataframe tbody tr th:only-of-type {\n",
       "        vertical-align: middle;\n",
       "    }\n",
       "\n",
       "    .dataframe tbody tr th {\n",
       "        vertical-align: top;\n",
       "    }\n",
       "\n",
       "    .dataframe thead th {\n",
       "        text-align: right;\n",
       "    }\n",
       "</style>\n",
       "<table border=\"1\" class=\"dataframe\">\n",
       "  <thead>\n",
       "    <tr style=\"text-align: right;\">\n",
       "      <th></th>\n",
       "      <th>count</th>\n",
       "      <th>mean</th>\n",
       "      <th>std</th>\n",
       "      <th>min</th>\n",
       "      <th>25%</th>\n",
       "      <th>50%</th>\n",
       "      <th>75%</th>\n",
       "      <th>max</th>\n",
       "    </tr>\n",
       "  </thead>\n",
       "  <tbody>\n",
       "    <tr>\n",
       "      <th>engine_displacement</th>\n",
       "      <td>9704.0</td>\n",
       "      <td>199.708368</td>\n",
       "      <td>49.455319</td>\n",
       "      <td>10.000000</td>\n",
       "      <td>170.000000</td>\n",
       "      <td>200.000000</td>\n",
       "      <td>230.000000</td>\n",
       "      <td>380.000000</td>\n",
       "    </tr>\n",
       "    <tr>\n",
       "      <th>num_cylinders</th>\n",
       "      <td>9222.0</td>\n",
       "      <td>3.962481</td>\n",
       "      <td>1.999323</td>\n",
       "      <td>0.000000</td>\n",
       "      <td>3.000000</td>\n",
       "      <td>4.000000</td>\n",
       "      <td>5.000000</td>\n",
       "      <td>13.000000</td>\n",
       "    </tr>\n",
       "    <tr>\n",
       "      <th>horsepower</th>\n",
       "      <td>8996.0</td>\n",
       "      <td>149.657292</td>\n",
       "      <td>29.879555</td>\n",
       "      <td>37.000000</td>\n",
       "      <td>130.000000</td>\n",
       "      <td>149.000000</td>\n",
       "      <td>170.000000</td>\n",
       "      <td>271.000000</td>\n",
       "    </tr>\n",
       "    <tr>\n",
       "      <th>vehicle_weight</th>\n",
       "      <td>9704.0</td>\n",
       "      <td>3001.280993</td>\n",
       "      <td>497.894860</td>\n",
       "      <td>952.681761</td>\n",
       "      <td>2666.248985</td>\n",
       "      <td>2993.226296</td>\n",
       "      <td>3334.957039</td>\n",
       "      <td>4739.077089</td>\n",
       "    </tr>\n",
       "    <tr>\n",
       "      <th>acceleration</th>\n",
       "      <td>8774.0</td>\n",
       "      <td>15.021928</td>\n",
       "      <td>2.510339</td>\n",
       "      <td>6.000000</td>\n",
       "      <td>13.300000</td>\n",
       "      <td>15.000000</td>\n",
       "      <td>16.700000</td>\n",
       "      <td>24.300000</td>\n",
       "    </tr>\n",
       "    <tr>\n",
       "      <th>model_year</th>\n",
       "      <td>9704.0</td>\n",
       "      <td>2011.484027</td>\n",
       "      <td>6.659808</td>\n",
       "      <td>2000.000000</td>\n",
       "      <td>2006.000000</td>\n",
       "      <td>2012.000000</td>\n",
       "      <td>2017.000000</td>\n",
       "      <td>2023.000000</td>\n",
       "    </tr>\n",
       "    <tr>\n",
       "      <th>num_doors</th>\n",
       "      <td>9202.0</td>\n",
       "      <td>-0.006412</td>\n",
       "      <td>1.048162</td>\n",
       "      <td>-4.000000</td>\n",
       "      <td>-1.000000</td>\n",
       "      <td>0.000000</td>\n",
       "      <td>1.000000</td>\n",
       "      <td>4.000000</td>\n",
       "    </tr>\n",
       "    <tr>\n",
       "      <th>fuel_efficiency_mpg</th>\n",
       "      <td>9704.0</td>\n",
       "      <td>14.985243</td>\n",
       "      <td>2.556468</td>\n",
       "      <td>6.200971</td>\n",
       "      <td>13.267459</td>\n",
       "      <td>15.006037</td>\n",
       "      <td>16.707965</td>\n",
       "      <td>25.967222</td>\n",
       "    </tr>\n",
       "  </tbody>\n",
       "</table>\n",
       "</div>"
      ],
      "text/plain": [
       "                      count         mean         std          min  \\\n",
       "engine_displacement  9704.0   199.708368   49.455319    10.000000   \n",
       "num_cylinders        9222.0     3.962481    1.999323     0.000000   \n",
       "horsepower           8996.0   149.657292   29.879555    37.000000   \n",
       "vehicle_weight       9704.0  3001.280993  497.894860   952.681761   \n",
       "acceleration         8774.0    15.021928    2.510339     6.000000   \n",
       "model_year           9704.0  2011.484027    6.659808  2000.000000   \n",
       "num_doors            9202.0    -0.006412    1.048162    -4.000000   \n",
       "fuel_efficiency_mpg  9704.0    14.985243    2.556468     6.200971   \n",
       "\n",
       "                             25%          50%          75%          max  \n",
       "engine_displacement   170.000000   200.000000   230.000000   380.000000  \n",
       "num_cylinders           3.000000     4.000000     5.000000    13.000000  \n",
       "horsepower            130.000000   149.000000   170.000000   271.000000  \n",
       "vehicle_weight       2666.248985  2993.226296  3334.957039  4739.077089  \n",
       "acceleration           13.300000    15.000000    16.700000    24.300000  \n",
       "model_year           2006.000000  2012.000000  2017.000000  2023.000000  \n",
       "num_doors              -1.000000     0.000000     1.000000     4.000000  \n",
       "fuel_efficiency_mpg    13.267459    15.006037    16.707965    25.967222  "
      ]
     },
     "execution_count": 7,
     "metadata": {},
     "output_type": "execute_result"
    }
   ],
   "source": [
    "car.describe().T"
   ]
  },
  {
   "cell_type": "code",
   "execution_count": 8,
   "id": "0ade08f8-74a1-45a1-a195-02c01635975f",
   "metadata": {
    "scrolled": true
   },
   "outputs": [
    {
     "data": {
      "text/plain": [
       "engine_displacement      int64\n",
       "num_cylinders          float64\n",
       "horsepower             float64\n",
       "vehicle_weight         float64\n",
       "acceleration           float64\n",
       "model_year               int64\n",
       "origin                  object\n",
       "fuel_type               object\n",
       "drivetrain              object\n",
       "num_doors              float64\n",
       "fuel_efficiency_mpg    float64\n",
       "dtype: object"
      ]
     },
     "execution_count": 8,
     "metadata": {},
     "output_type": "execute_result"
    }
   ],
   "source": [
    "car.dtypes"
   ]
  },
  {
   "cell_type": "code",
   "execution_count": 9,
   "id": "eeddea1f-d5f2-451b-8428-2d7808195d31",
   "metadata": {
    "scrolled": true
   },
   "outputs": [
    {
     "data": {
      "text/plain": [
       "<Axes: xlabel='fuel_efficiency_mpg', ylabel='Count'>"
      ]
     },
     "execution_count": 9,
     "metadata": {},
     "output_type": "execute_result"
    },
    {
     "data": {
      "image/png": "[encoded data removed]",
      "text/plain": [
       "<Figure size 640x480 with 1 Axes>"
      ]
     },
     "metadata": {},
     "output_type": "display_data"
    }
   ],
   "source": [
    "sns.histplot(car[\"fuel_efficiency_mpg\"], bins = 50)"
   ]
  },
  {
   "cell_type": "code",
   "execution_count": 10,
   "id": "edd4d820-27d2-46d8-9740-5ad9d2908a64",
   "metadata": {},
   "outputs": [
    {
     "data": {
      "text/html": [
       "<div>\n",
       "<style scoped>\n",
       "    .dataframe tbody tr th:only-of-type {\n",
       "        vertical-align: middle;\n",
       "    }\n",
       "\n",
       "    .dataframe tbody tr th {\n",
       "        vertical-align: top;\n",
       "    }\n",
       "\n",
       "    .dataframe thead th {\n",
       "        text-align: right;\n",
       "    }\n",
       "</style>\n",
       "<table border=\"1\" class=\"dataframe\">\n",
       "  <thead>\n",
       "    <tr style=\"text-align: right;\">\n",
       "      <th></th>\n",
       "      <th>horsepower</th>\n",
       "      <th>vehicle_weight</th>\n",
       "      <th>vehicle_weight</th>\n",
       "      <th>model_year</th>\n",
       "      <th>fuel_efficiency_mpg</th>\n",
       "    </tr>\n",
       "  </thead>\n",
       "  <tbody>\n",
       "    <tr>\n",
       "      <th>0</th>\n",
       "      <td>159.0</td>\n",
       "      <td>3413.433759</td>\n",
       "      <td>3413.433759</td>\n",
       "      <td>2003</td>\n",
       "      <td>13.231729</td>\n",
       "    </tr>\n",
       "    <tr>\n",
       "      <th>1</th>\n",
       "      <td>97.0</td>\n",
       "      <td>3149.664934</td>\n",
       "      <td>3149.664934</td>\n",
       "      <td>2007</td>\n",
       "      <td>13.688217</td>\n",
       "    </tr>\n",
       "    <tr>\n",
       "      <th>2</th>\n",
       "      <td>78.0</td>\n",
       "      <td>3079.038997</td>\n",
       "      <td>3079.038997</td>\n",
       "      <td>2018</td>\n",
       "      <td>14.246341</td>\n",
       "    </tr>\n",
       "    <tr>\n",
       "      <th>3</th>\n",
       "      <td>NaN</td>\n",
       "      <td>2542.392402</td>\n",
       "      <td>2542.392402</td>\n",
       "      <td>2009</td>\n",
       "      <td>16.912736</td>\n",
       "    </tr>\n",
       "    <tr>\n",
       "      <th>4</th>\n",
       "      <td>140.0</td>\n",
       "      <td>3460.870990</td>\n",
       "      <td>3460.870990</td>\n",
       "      <td>2009</td>\n",
       "      <td>12.488369</td>\n",
       "    </tr>\n",
       "    <tr>\n",
       "      <th>...</th>\n",
       "      <td>...</td>\n",
       "      <td>...</td>\n",
       "      <td>...</td>\n",
       "      <td>...</td>\n",
       "      <td>...</td>\n",
       "    </tr>\n",
       "    <tr>\n",
       "      <th>9699</th>\n",
       "      <td>164.0</td>\n",
       "      <td>2981.107371</td>\n",
       "      <td>2981.107371</td>\n",
       "      <td>2013</td>\n",
       "      <td>15.101802</td>\n",
       "    </tr>\n",
       "    <tr>\n",
       "      <th>9700</th>\n",
       "      <td>154.0</td>\n",
       "      <td>2439.525729</td>\n",
       "      <td>2439.525729</td>\n",
       "      <td>2004</td>\n",
       "      <td>17.962326</td>\n",
       "    </tr>\n",
       "    <tr>\n",
       "      <th>9701</th>\n",
       "      <td>138.0</td>\n",
       "      <td>2583.471318</td>\n",
       "      <td>2583.471318</td>\n",
       "      <td>2008</td>\n",
       "      <td>17.186587</td>\n",
       "    </tr>\n",
       "    <tr>\n",
       "      <th>9702</th>\n",
       "      <td>177.0</td>\n",
       "      <td>2905.527390</td>\n",
       "      <td>2905.527390</td>\n",
       "      <td>2011</td>\n",
       "      <td>15.331551</td>\n",
       "    </tr>\n",
       "    <tr>\n",
       "      <th>9703</th>\n",
       "      <td>140.0</td>\n",
       "      <td>2908.043477</td>\n",
       "      <td>2908.043477</td>\n",
       "      <td>2005</td>\n",
       "      <td>14.884467</td>\n",
       "    </tr>\n",
       "  </tbody>\n",
       "</table>\n",
       "<p>9704 rows × 5 columns</p>\n",
       "</div>"
      ],
      "text/plain": [
       "      horsepower  vehicle_weight  vehicle_weight  model_year  \\\n",
       "0          159.0     3413.433759     3413.433759        2003   \n",
       "1           97.0     3149.664934     3149.664934        2007   \n",
       "2           78.0     3079.038997     3079.038997        2018   \n",
       "3            NaN     2542.392402     2542.392402        2009   \n",
       "4          140.0     3460.870990     3460.870990        2009   \n",
       "...          ...             ...             ...         ...   \n",
       "9699       164.0     2981.107371     2981.107371        2013   \n",
       "9700       154.0     2439.525729     2439.525729        2004   \n",
       "9701       138.0     2583.471318     2583.471318        2008   \n",
       "9702       177.0     2905.527390     2905.527390        2011   \n",
       "9703       140.0     2908.043477     2908.043477        2005   \n",
       "\n",
       "      fuel_efficiency_mpg  \n",
       "0               13.231729  \n",
       "1               13.688217  \n",
       "2               14.246341  \n",
       "3               16.912736  \n",
       "4               12.488369  \n",
       "...                   ...  \n",
       "9699            15.101802  \n",
       "9700            17.962326  \n",
       "9701            17.186587  \n",
       "9702            15.331551  \n",
       "9703            14.884467  \n",
       "\n",
       "[9704 rows x 5 columns]"
      ]
     },
     "execution_count": 10,
     "metadata": {},
     "output_type": "execute_result"
    }
   ],
   "source": [
    "base = [\"horsepower\", \"vehicle_weight\", \"vehicle_weight\", \"model_year\", \"fuel_efficiency_mpg\"]\n",
    "base\n",
    "car = car[base]\n",
    "car"
   ]
  },
  {
   "cell_type": "code",
   "execution_count": 11,
   "id": "bb72aecf-d9c2-4a2d-b301-e76a5da61b9b",
   "metadata": {},
   "outputs": [
    {
     "data": {
      "text/plain": [
       "9704"
      ]
     },
     "execution_count": 11,
     "metadata": {},
     "output_type": "execute_result"
    }
   ],
   "source": [
    "n = len(car)\n",
    "n"
   ]
  },
  {
   "cell_type": "code",
   "execution_count": 12,
   "id": "c818bae0-c6f6-4e3f-ba89-5177eda33c01",
   "metadata": {},
   "outputs": [],
   "source": [
    "idx = np.arange(n)\n",
    "seed = np.random.seed(42)\n",
    "np.random.shuffle(idx)"
   ]
  },
  {
   "cell_type": "code",
   "execution_count": 13,
   "id": "bde4029e-2afc-48c8-9e54-f57e0258960e",
   "metadata": {},
   "outputs": [],
   "source": [
    "n_val = int(n * 0.2)\n",
    "n_test = int( n * 0.2)\n",
    "n_train = n - n_val - n_test"
   ]
  },
  {
   "cell_type": "code",
   "execution_count": 14,
   "id": "30cfa15e-ab34-4142-8dc3-fe0a89c09284",
   "metadata": {},
   "outputs": [],
   "source": [
    "df_train = car.iloc[idx[:n_train]]\n",
    "df_val = car.iloc[idx[n_train:n_train+ n_val]]\n",
    "df_test = car.iloc[idx[n_train+n_val:]]"
   ]
  },
  {
   "cell_type": "code",
   "execution_count": 15,
   "id": "3e02b251-455e-4016-8595-c89bc20ae8be",
   "metadata": {},
   "outputs": [
    {
     "data": {
      "text/plain": [
       "(5824, 1940, 1940)"
      ]
     },
     "execution_count": 15,
     "metadata": {},
     "output_type": "execute_result"
    }
   ],
   "source": [
    "len(df_train), len(df_val), len(df_test)"
   ]
  },
  {
   "cell_type": "code",
   "execution_count": 16,
   "id": "89ac305f-9f28-474b-8b33-1bed36caefd7",
   "metadata": {},
   "outputs": [],
   "source": [
    "df_train = df_train.reset_index(drop = True)\n",
    "df_val = df_val.reset_index(drop = True)\n",
    "df_test = df_test.reset_index(drop = True)"
   ]
  },
  {
   "cell_type": "code",
   "execution_count": 17,
   "id": "6ddf2fc1-00e5-43c3-9366-2c483a208ce8",
   "metadata": {},
   "outputs": [],
   "source": [
    "y_train = df_train.fuel_efficiency_mpg.values\n",
    "y_val = df_val.fuel_efficiency_mpg.values\n",
    "y_test = df_test.fuel_efficiency_mpg.values"
   ]
  },
  {
   "cell_type": "code",
   "execution_count": 18,
   "id": "0eafb881-3614-4899-a148-26ff0174f2b2",
   "metadata": {},
   "outputs": [],
   "source": [
    "del df_train[\"fuel_efficiency_mpg\"]\n",
    "del df_val[\"fuel_efficiency_mpg\"]\n",
    "del df_test[\"fuel_efficiency_mpg\"]"
   ]
  },
  {
   "cell_type": "code",
   "execution_count": 19,
   "id": "3a94f880-447a-4f2b-aafb-23db240bcdcb",
   "metadata": {},
   "outputs": [
    {
     "data": {
      "text/plain": [
       "Index(['horsepower', 'vehicle_weight', 'vehicle_weight', 'model_year'], dtype='object')"
      ]
     },
     "execution_count": 19,
     "metadata": {},
     "output_type": "execute_result"
    }
   ],
   "source": [
    "df_train.columns"
   ]
  },
  {
   "cell_type": "code",
   "execution_count": 20,
   "id": "232753ae-dac2-48cd-a004-58669a75a677",
   "metadata": {},
   "outputs": [
    {
     "data": {
      "text/plain": [
       "horsepower        float64\n",
       "vehicle_weight    float64\n",
       "vehicle_weight    float64\n",
       "model_year          int64\n",
       "dtype: object"
      ]
     },
     "execution_count": 20,
     "metadata": {},
     "output_type": "execute_result"
    }
   ],
   "source": [
    "df_train.dtypes"
   ]
  },
  {
   "cell_type": "code",
   "execution_count": 21,
   "id": "2a75960d-8fe3-40e2-b4b4-5116ad044fa8",
   "metadata": {},
   "outputs": [
    {
     "data": {
      "text/plain": [
       "horsepower        429\n",
       "vehicle_weight      0\n",
       "vehicle_weight      0\n",
       "model_year          0\n",
       "dtype: int64"
      ]
     },
     "execution_count": 21,
     "metadata": {},
     "output_type": "execute_result"
    }
   ],
   "source": [
    "df_train.isnull().sum()"
   ]
  },
  {
   "cell_type": "code",
   "execution_count": 22,
   "id": "f43102e0-b929-4e67-9c70-76a9fb08fc19",
   "metadata": {
    "scrolled": true
   },
   "outputs": [],
   "source": [
    "X_train = df_train.fillna(0).values"
   ]
  },
  {
   "cell_type": "code",
   "execution_count": 23,
   "id": "9d6aa575-af36-4377-82cf-ec9236471d23",
   "metadata": {},
   "outputs": [
    {
     "data": {
      "text/plain": [
       "array([[ 144.        , 2535.88759124, 2535.88759124, 2009.        ],\n",
       "       [ 141.        , 2741.17048439, 2741.17048439, 2019.        ],\n",
       "       [ 155.        , 2471.88023726, 2471.88023726, 2017.        ],\n",
       "       ...,\n",
       "       [ 152.        , 2500.17568746, 2500.17568746, 2020.        ],\n",
       "       [ 154.        , 2254.31324473, 2254.31324473, 2002.        ],\n",
       "       [ 152.        , 2435.20360628, 2435.20360628, 2004.        ]])"
      ]
     },
     "execution_count": 23,
     "metadata": {},
     "output_type": "execute_result"
    }
   ],
   "source": [
    "X_train"
   ]
  },
  {
   "cell_type": "code",
   "execution_count": 24,
   "id": "6f045b63-a888-42e1-825b-49d9bf19f5ae",
   "metadata": {},
   "outputs": [],
   "source": [
    "def train_linear_regression(X, y):\n",
    "    ones = np.ones(X.shape[0])\n",
    "    X = np.column_stack([ones, X])\n",
    "\n",
    "    xtx = X.T.dot(X)\n",
    "    xtx_inv = np.linalg.pinv(xtx)\n",
    "    w_full = xtx_inv.dot(X.T).dot(y)\n",
    "    return w_full[0], w_full[1:]"
   ]
  },
  {
   "cell_type": "code",
   "execution_count": 25,
   "id": "eb57c27e-6613-4695-bcee-49b891d6bb7d",
   "metadata": {},
   "outputs": [],
   "source": [
    "def rmse(y, y_pred):\n",
    "    se = (y - y_pred)**2\n",
    "    mse = se.mean()\n",
    "    return np.sqrt(mse)"
   ]
  },
  {
   "cell_type": "code",
   "execution_count": 26,
   "id": "24020502-40d9-4af2-a9bb-4ec335be64de",
   "metadata": {},
   "outputs": [],
   "source": [
    "w0, w = train_linear_regression(X_train, y_train)\n",
    "y_pred = w0 + X_train.dot(w)"
   ]
  },
  {
   "cell_type": "code",
   "execution_count": 27,
   "id": "c8504fde-34c2-4f88-a7bb-e557a4f21aa1",
   "metadata": {},
   "outputs": [
    {
     "data": {
      "text/plain": [
       "array([17.33327524, 16.29682476, 17.69578259, ..., 17.54430329,\n",
       "       18.77798858, 17.86470352])"
      ]
     },
     "execution_count": 27,
     "metadata": {},
     "output_type": "execute_result"
    }
   ],
   "source": [
    "y_pred"
   ]
  },
  {
   "cell_type": "code",
   "execution_count": 28,
   "id": "420e0cd3-6ed3-40c6-a82c-ec09284f4230",
   "metadata": {},
   "outputs": [],
   "source": [
    "import matplotlib.pyplot as plt"
   ]
  },
  {
   "cell_type": "code",
   "execution_count": 29,
   "id": "0c060bc2-7360-4f9a-8e09-42059d6981cb",
   "metadata": {
    "scrolled": true
   },
   "outputs": [
    {
     "data": {
      "text/plain": [
       "<matplotlib.legend.Legend at 0x1e8a7b1fcb0>"
      ]
     },
     "execution_count": 29,
     "metadata": {},
     "output_type": "execute_result"
    },
    {
     "data": {
      "image/png": "[encoded data removed]",
      "text/plain": [
       "<Figure size 640x480 with 1 Axes>"
      ]
     },
     "metadata": {},
     "output_type": "display_data"
    }
   ],
   "source": [
    "sns.histplot(y_pred, color = \"red\", label = \"prediction\", bins = 50)\n",
    "sns.histplot(y_train, color = \"yellow\", label = \"training\", bins = 50)\n",
    "plt.legend()"
   ]
  },
  {
   "cell_type": "code",
   "execution_count": 30,
   "id": "c73fc937-d119-442c-abfe-4fac24e6d93c",
   "metadata": {},
   "outputs": [],
   "source": [
    "def rmse(y, y_pred):\n",
    "    mse = ( y - y_pred)**2\n",
    "    se = mse.mean()\n",
    "    return np.sqrt(se)"
   ]
  },
  {
   "cell_type": "code",
   "execution_count": 31,
   "id": "5e0560da-982f-441e-aa14-c5c9f2cab89b",
   "metadata": {},
   "outputs": [
    {
     "data": {
      "text/plain": [
       "np.float64(0.5202847018228264)"
      ]
     },
     "execution_count": 31,
     "metadata": {},
     "output_type": "execute_result"
    }
   ],
   "source": [
    "rmse(y_train, y_pred)"
   ]
  },
  {
   "cell_type": "code",
   "execution_count": 32,
   "id": "e722a1c8-2890-4115-88a1-6ace2ad6eab7",
   "metadata": {},
   "outputs": [
    {
     "data": {
      "text/plain": [
       "array([[ 112.        , 2772.13441008, 2772.13441008, 2020.        ],\n",
       "       [ 138.        , 3014.06152983, 3014.06152983, 2022.        ],\n",
       "       [ 181.        , 3652.18615117, 3652.18615117, 2016.        ],\n",
       "       ...,\n",
       "       [ 202.        , 3303.00068812, 3303.00068812, 2008.        ],\n",
       "       [ 169.        , 3293.42025107, 3293.42025107, 2008.        ],\n",
       "       [ 117.        , 2692.7812918 , 2692.7812918 , 2004.        ]])"
      ]
     },
     "execution_count": 32,
     "metadata": {},
     "output_type": "execute_result"
    }
   ],
   "source": [
    "X_val = df_val.fillna(0).values\n",
    "X_val"
   ]
  },
  {
   "cell_type": "code",
   "execution_count": 33,
   "id": "d8ef1b9e-3a2b-475e-b09e-89e33f20d3aa",
   "metadata": {
    "scrolled": true
   },
   "outputs": [
    {
     "data": {
      "text/plain": [
       "array([16.03923531, 14.91909886, 11.87021321, ..., 13.69250365,\n",
       "       13.62368079, 16.44943792])"
      ]
     },
     "execution_count": 33,
     "metadata": {},
     "output_type": "execute_result"
    }
   ],
   "source": [
    "w0, w = train_linear_regression(X_train, y_train)\n",
    "y_preds = w0 + X_val.dot(w)\n",
    "y_preds"
   ]
  },
  {
   "cell_type": "code",
   "execution_count": 34,
   "id": "5ab50292-4a57-4bec-9a6f-690e5234e737",
   "metadata": {},
   "outputs": [
    {
     "data": {
      "text/plain": [
       "np.float64(0.5174258700545222)"
      ]
     },
     "execution_count": 34,
     "metadata": {},
     "output_type": "execute_result"
    }
   ],
   "source": [
    "rmse(y_val, y_preds)"
   ]
  },
  {
   "cell_type": "code",
   "execution_count": 35,
   "id": "9d9367fc-e17e-40ce-bd65-54bc470c3e85",
   "metadata": {},
   "outputs": [],
   "source": [
    "def train_linear_regression_reg(X, y, r= 0.001):\n",
    "    ones = np.ones(X.shape[0])\n",
    "    X = np.column_stack([ones, X])\n",
    "\n",
    "    xtx = X.T.dot(X)\n",
    "    reg = r * np.eye(xtx.shape[0])\n",
    "    xtx = xtx + reg\n",
    "\n",
    "    xtx_inv = np.linalg.pinv(xtx)\n",
    "    w_full = xtx_inv.dot(X.T).dot(y)\n",
    "\n",
    "    return w_full[0], w_full[1:]"
   ]
  },
  {
   "cell_type": "code",
   "execution_count": 36,
   "id": "a0221125-03b5-499f-b293-267ebd13530b",
   "metadata": {},
   "outputs": [],
   "source": [
    "X_train = df_train.fillna(0).values"
   ]
  },
  {
   "cell_type": "code",
   "execution_count": 37,
   "id": "a967e2d9-5a4b-4e19-880c-7b7cb00ab5ad",
   "metadata": {},
   "outputs": [
    {
     "name": "stdout",
     "output_type": "stream",
     "text": [
      "100 0.52\n"
     ]
    }
   ],
   "source": [
    "for r in [0.0, 0.01, 0.1, 1, 10, 100]:\n",
    " w0, w = train_linear_regression_reg(X_train, y_train,r = r)\n",
    "X_train = df_train.fillna(0).values\n",
    "\n",
    "w0, w = train_linear_regression_reg(X_train, y_train,r = r)\n",
    "X_val = df_val.fillna(0).values\n",
    "\n",
    "y_preds = w0 + X_val.dot(w)\n",
    "score = rmse(y_val, y_preds)\n",
    "\n",
    "print(r, round(score,2))\n"
   ]
  },
  {
   "cell_type": "code",
   "execution_count": 38,
   "id": "c14f4cec-e0ac-404b-bcc3-7bc9e54ad956",
   "metadata": {},
   "outputs": [
    {
     "name": "stdout",
     "output_type": "stream",
     "text": [
      "0 0.52\n",
      "1 0.52\n",
      "2 0.52\n",
      "3 0.52\n",
      "4 0.51\n",
      "5 0.53\n",
      "6 0.53\n",
      "7 0.51\n",
      "8 0.51\n",
      "9 0.51\n"
     ]
    }
   ],
   "source": [
    "seeds = [0, 1, 2, 3, 4, 5, 6, 7, 8, 9]\n",
    "scores = []\n",
    "\n",
    "for seed in seeds:\n",
    "    \n",
    "    n= len(car)\n",
    "    idx = np.arange(n)\n",
    "    np.random.seed(seed)\n",
    "    np.random.shuffle(idx)\n",
    "\n",
    "    n_val = int(n * 0.2)\n",
    "    n_test = int( n * 0.2)\n",
    "    n_train = n - n_val - n_test\n",
    "\n",
    "    df_train = car.iloc[idx[:n_train]]\n",
    "    df_val = car.iloc[idx[n_train:n_train+ n_val]]\n",
    "    df_test = car.iloc[idx[n_train+n_val:]]\n",
    "\n",
    "    df_train = df_train.reset_index(drop = True)\n",
    "    df_val = df_val.reset_index(drop = True)\n",
    "    df_test = df_test.reset_index(drop = True)\n",
    "\n",
    "    y_train = df_train.fuel_efficiency_mpg.values\n",
    "    y_val = df_val.fuel_efficiency_mpg.values\n",
    "    y_test = df_test.fuel_efficiency_mpg.values\n",
    "\n",
    "    del df_train[\"fuel_efficiency_mpg\"]\n",
    "    del df_val[\"fuel_efficiency_mpg\"]\n",
    "    del df_test[\"fuel_efficiency_mpg\"]\n",
    "\n",
    "    X_train = df_train.fillna(0).values\n",
    "    \n",
    "    X_val = df_val.fillna(0).values\n",
    "\n",
    "    w0, w = train_linear_regression(X_train, y_train)\n",
    "\n",
    "    y_preds = w0 + X_val.dot(w)\n",
    "\n",
    "    Score = rmse(y_val, y_preds)\n",
    "    scores.append(Score)\n",
    "    \n",
    "    print(seed, round(Score, 2))\n",
    "\n",
    "     \n",
    "\n",
    "\n",
    "\n",
    "\n",
    "\n",
    "\n",
    "\n",
    "   "
   ]
  },
  {
   "cell_type": "code",
   "execution_count": 39,
   "id": "622845cc-70f0-46d2-a39c-4b29b9020e39",
   "metadata": {},
   "outputs": [
    {
     "name": "stdout",
     "output_type": "stream",
     "text": [
      " the round of the results in this car price:0\n"
     ]
    }
   ],
   "source": [
    "score = np.std(score)\n",
    "print(f\" the round of the results in this car price:{round(score)}\")"
   ]
  },
  {
   "cell_type": "code",
   "execution_count": 40,
   "id": "30677a91-c063-4cf5-97b8-ee5069077361",
   "metadata": {},
   "outputs": [],
   "source": [
    "n= len(car)\n",
    "idx = np.arange(n)\n",
    "np.random.seed(seed)\n",
    "np.random.shuffle(idx)\n",
    "n_val = int(n * 0.2)\n",
    "n_test = int( n * 0.2)\n",
    "n_train = n - n_val - n_test\n",
    "\n",
    "df_train = car.iloc[idx[:n_train]]\n",
    "df_val = car.iloc[idx[n_train:n_train+ n_val]]\n",
    "df_test = car.iloc[idx[n_train+n_val:]]\n",
    "\n",
    "df_train = df_train.reset_index(drop = True)\n",
    "df_val = df_val.reset_index(drop = True)\n",
    "df_test = df_test.reset_index(drop = True)\n",
    "\n",
    "y_train = df_train.fuel_efficiency_mpg.values\n",
    "y_val = df_val.fuel_efficiency_mpg.values\n",
    "y_test = df_test.fuel_efficiency_mpg.values\n",
    "\n",
    "del df_train[\"fuel_efficiency_mpg\"]\n",
    "del df_val[\"fuel_efficiency_mpg\"]\n",
    "del df_test[\"fuel_efficiency_mpg\"]\n"
   ]
  },
  {
   "cell_type": "code",
   "execution_count": 41,
   "id": "e0009755-78a0-4161-bc8d-304e24daf5b0",
   "metadata": {},
   "outputs": [],
   "source": [
    "X_test = df_test.fillna(0).values\n"
   ]
  },
  {
   "cell_type": "code",
   "execution_count": 42,
   "id": "170006d2-8166-44ba-854c-732c6cbf874c",
   "metadata": {},
   "outputs": [],
   "source": [
    "df_full_train = pd.concat([df_train, df_val])\n",
    "df_full_train = df_full_train.reset_index(drop = True)\n",
    "df_test = df_test.reset_index(drop = True)"
   ]
  },
  {
   "cell_type": "code",
   "execution_count": 43,
   "id": "2fb76357-0f89-471c-bf29-55a4160447c7",
   "metadata": {},
   "outputs": [],
   "source": [
    "X_full_train = df_full_train.fillna(0).values\n",
    "y_full_train = np.concatenate([y_train, y_val])"
   ]
  },
  {
   "cell_type": "code",
   "execution_count": 44,
   "id": "04b2f74e-dca8-4065-84d9-98c0183f0abc",
   "metadata": {},
   "outputs": [],
   "source": [
    "r = 0.001\n",
    "w0, w = train_linear_regression_reg(X_full_train, y_full_train, r = r)\n",
    "X_test = df_test.fillna(0).values\n",
    "y_pred = w0 + X_test.dot(w)"
   ]
  },
  {
   "cell_type": "code",
   "execution_count": 45,
   "id": "511edb67-7706-48c7-a65c-beab27e3500a",
   "metadata": {},
   "outputs": [
    {
     "data": {
      "text/plain": [
       "np.float64(0.5130720755168379)"
      ]
     },
     "execution_count": 45,
     "metadata": {},
     "output_type": "execute_result"
    }
   ],
   "source": [
    "score = rmse(y_val, y_preds)\n",
    "score"
   ]
  },
  {
   "cell_type": "code",
   "execution_count": null,
   "id": "cb458aba-953d-46ca-87c5-f115d5c9723d",
   "metadata": {},
   "outputs": [],
   "source": []
  }
 ],
 "metadata": {
  "kernelspec": {
   "display_name": "Python [conda env:base] *",
   "language": "python",
   "name": "conda-base-py"
  },
  "language_info": {
   "codemirror_mode": {
    "name": "ipython",
    "version": 3
   },
   "file_extension": ".py",
   "mimetype": "text/x-python",
   "name": "python",
   "nbconvert_exporter": "python",
   "pygments_lexer": "ipython3",
   "version": "3.13.5"
  }
 },
 "nbformat": 4,
 "nbformat_minor": 5
}
