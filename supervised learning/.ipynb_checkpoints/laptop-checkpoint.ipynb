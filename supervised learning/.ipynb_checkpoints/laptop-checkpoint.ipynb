{
 "cells": [
  {
   "cell_type": "code",
   "execution_count": 1,
   "id": "7c99f736-fb3a-4886-9922-2dd81a9dce4a",
   "metadata": {},
   "outputs": [],
   "source": [
    "import pandas as pd\n",
    "import numpy as np\n",
    "import matplotlib.pyplot as plt\n",
    "import seaborn as sns"
   ]
  },
  {
   "cell_type": "code",
   "execution_count": 2,
   "id": "b1e5e8ef-ba5e-402a-82ba-db7c808892b2",
   "metadata": {},
   "outputs": [
    {
     "data": {
      "text/html": [
       "<div>\n",
       "<style scoped>\n",
       "    .dataframe tbody tr th:only-of-type {\n",
       "        vertical-align: middle;\n",
       "    }\n",
       "\n",
       "    .dataframe tbody tr th {\n",
       "        vertical-align: top;\n",
       "    }\n",
       "\n",
       "    .dataframe thead th {\n",
       "        text-align: right;\n",
       "    }\n",
       "</style>\n",
       "<table border=\"1\" class=\"dataframe\">\n",
       "  <thead>\n",
       "    <tr style=\"text-align: right;\">\n",
       "      <th></th>\n",
       "      <th>Laptop</th>\n",
       "      <th>Status</th>\n",
       "      <th>Brand</th>\n",
       "      <th>Model</th>\n",
       "      <th>CPU</th>\n",
       "      <th>RAM</th>\n",
       "      <th>Storage</th>\n",
       "      <th>Storage type</th>\n",
       "      <th>GPU</th>\n",
       "      <th>Screen</th>\n",
       "      <th>Touch</th>\n",
       "      <th>Final Price</th>\n",
       "    </tr>\n",
       "  </thead>\n",
       "  <tbody>\n",
       "    <tr>\n",
       "      <th>0</th>\n",
       "      <td>ASUS ExpertBook B1 B1502CBA-EJ0436X Intel Core...</td>\n",
       "      <td>New</td>\n",
       "      <td>Asus</td>\n",
       "      <td>ExpertBook</td>\n",
       "      <td>Intel Core i5</td>\n",
       "      <td>8</td>\n",
       "      <td>512</td>\n",
       "      <td>SSD</td>\n",
       "      <td>NaN</td>\n",
       "      <td>15.6</td>\n",
       "      <td>No</td>\n",
       "      <td>1009.00</td>\n",
       "    </tr>\n",
       "    <tr>\n",
       "      <th>1</th>\n",
       "      <td>Alurin Go Start Intel Celeron N4020/8GB/256GB ...</td>\n",
       "      <td>New</td>\n",
       "      <td>Alurin</td>\n",
       "      <td>Go</td>\n",
       "      <td>Intel Celeron</td>\n",
       "      <td>8</td>\n",
       "      <td>256</td>\n",
       "      <td>SSD</td>\n",
       "      <td>NaN</td>\n",
       "      <td>15.6</td>\n",
       "      <td>No</td>\n",
       "      <td>299.00</td>\n",
       "    </tr>\n",
       "    <tr>\n",
       "      <th>2</th>\n",
       "      <td>ASUS ExpertBook B1 B1502CBA-EJ0424X Intel Core...</td>\n",
       "      <td>New</td>\n",
       "      <td>Asus</td>\n",
       "      <td>ExpertBook</td>\n",
       "      <td>Intel Core i3</td>\n",
       "      <td>8</td>\n",
       "      <td>256</td>\n",
       "      <td>SSD</td>\n",
       "      <td>NaN</td>\n",
       "      <td>15.6</td>\n",
       "      <td>No</td>\n",
       "      <td>789.00</td>\n",
       "    </tr>\n",
       "    <tr>\n",
       "      <th>3</th>\n",
       "      <td>MSI Katana GF66 12UC-082XES Intel Core i7-1270...</td>\n",
       "      <td>New</td>\n",
       "      <td>MSI</td>\n",
       "      <td>Katana</td>\n",
       "      <td>Intel Core i7</td>\n",
       "      <td>16</td>\n",
       "      <td>1000</td>\n",
       "      <td>SSD</td>\n",
       "      <td>RTX 3050</td>\n",
       "      <td>15.6</td>\n",
       "      <td>No</td>\n",
       "      <td>1199.00</td>\n",
       "    </tr>\n",
       "    <tr>\n",
       "      <th>4</th>\n",
       "      <td>HP 15S-FQ5085NS Intel Core i5-1235U/16GB/512GB...</td>\n",
       "      <td>New</td>\n",
       "      <td>HP</td>\n",
       "      <td>15S</td>\n",
       "      <td>Intel Core i5</td>\n",
       "      <td>16</td>\n",
       "      <td>512</td>\n",
       "      <td>SSD</td>\n",
       "      <td>NaN</td>\n",
       "      <td>15.6</td>\n",
       "      <td>No</td>\n",
       "      <td>669.01</td>\n",
       "    </tr>\n",
       "    <tr>\n",
       "      <th>...</th>\n",
       "      <td>...</td>\n",
       "      <td>...</td>\n",
       "      <td>...</td>\n",
       "      <td>...</td>\n",
       "      <td>...</td>\n",
       "      <td>...</td>\n",
       "      <td>...</td>\n",
       "      <td>...</td>\n",
       "      <td>...</td>\n",
       "      <td>...</td>\n",
       "      <td>...</td>\n",
       "      <td>...</td>\n",
       "    </tr>\n",
       "    <tr>\n",
       "      <th>2155</th>\n",
       "      <td>Razer Blade 17 FHD 360Hz Intel Core i7-11800H/...</td>\n",
       "      <td>Refurbished</td>\n",
       "      <td>Razer</td>\n",
       "      <td>Blade</td>\n",
       "      <td>Intel Core i7</td>\n",
       "      <td>16</td>\n",
       "      <td>1000</td>\n",
       "      <td>SSD</td>\n",
       "      <td>RTX 3060</td>\n",
       "      <td>17.3</td>\n",
       "      <td>No</td>\n",
       "      <td>2699.99</td>\n",
       "    </tr>\n",
       "    <tr>\n",
       "      <th>2156</th>\n",
       "      <td>Razer Blade 17 FHD 360Hz Intel Core i7-11800H/...</td>\n",
       "      <td>Refurbished</td>\n",
       "      <td>Razer</td>\n",
       "      <td>Blade</td>\n",
       "      <td>Intel Core i7</td>\n",
       "      <td>16</td>\n",
       "      <td>1000</td>\n",
       "      <td>SSD</td>\n",
       "      <td>RTX 3070</td>\n",
       "      <td>17.3</td>\n",
       "      <td>No</td>\n",
       "      <td>2899.99</td>\n",
       "    </tr>\n",
       "    <tr>\n",
       "      <th>2157</th>\n",
       "      <td>Razer Blade 17 FHD 360Hz Intel Core i7-11800H/...</td>\n",
       "      <td>Refurbished</td>\n",
       "      <td>Razer</td>\n",
       "      <td>Blade</td>\n",
       "      <td>Intel Core i7</td>\n",
       "      <td>32</td>\n",
       "      <td>1000</td>\n",
       "      <td>SSD</td>\n",
       "      <td>RTX 3080</td>\n",
       "      <td>17.3</td>\n",
       "      <td>No</td>\n",
       "      <td>3399.99</td>\n",
       "    </tr>\n",
       "    <tr>\n",
       "      <th>2158</th>\n",
       "      <td>Razer Book 13 Intel Evo Core i7-1165G7/16GB/1T...</td>\n",
       "      <td>Refurbished</td>\n",
       "      <td>Razer</td>\n",
       "      <td>Book</td>\n",
       "      <td>Intel Evo Core i7</td>\n",
       "      <td>16</td>\n",
       "      <td>1000</td>\n",
       "      <td>SSD</td>\n",
       "      <td>NaN</td>\n",
       "      <td>13.4</td>\n",
       "      <td>Yes</td>\n",
       "      <td>1899.99</td>\n",
       "    </tr>\n",
       "    <tr>\n",
       "      <th>2159</th>\n",
       "      <td>Razer Book FHD+ Intel Evo Core i7-1165G7/16GB/...</td>\n",
       "      <td>Refurbished</td>\n",
       "      <td>Razer</td>\n",
       "      <td>Book</td>\n",
       "      <td>Intel Evo Core i7</td>\n",
       "      <td>16</td>\n",
       "      <td>256</td>\n",
       "      <td>SSD</td>\n",
       "      <td>NaN</td>\n",
       "      <td>13.4</td>\n",
       "      <td>Yes</td>\n",
       "      <td>1699.99</td>\n",
       "    </tr>\n",
       "  </tbody>\n",
       "</table>\n",
       "<p>2160 rows × 12 columns</p>\n",
       "</div>"
      ],
      "text/plain": [
       "                                                 Laptop       Status   Brand  \\\n",
       "0     ASUS ExpertBook B1 B1502CBA-EJ0436X Intel Core...          New    Asus   \n",
       "1     Alurin Go Start Intel Celeron N4020/8GB/256GB ...          New  Alurin   \n",
       "2     ASUS ExpertBook B1 B1502CBA-EJ0424X Intel Core...          New    Asus   \n",
       "3     MSI Katana GF66 12UC-082XES Intel Core i7-1270...          New     MSI   \n",
       "4     HP 15S-FQ5085NS Intel Core i5-1235U/16GB/512GB...          New      HP   \n",
       "...                                                 ...          ...     ...   \n",
       "2155  Razer Blade 17 FHD 360Hz Intel Core i7-11800H/...  Refurbished   Razer   \n",
       "2156  Razer Blade 17 FHD 360Hz Intel Core i7-11800H/...  Refurbished   Razer   \n",
       "2157  Razer Blade 17 FHD 360Hz Intel Core i7-11800H/...  Refurbished   Razer   \n",
       "2158  Razer Book 13 Intel Evo Core i7-1165G7/16GB/1T...  Refurbished   Razer   \n",
       "2159  Razer Book FHD+ Intel Evo Core i7-1165G7/16GB/...  Refurbished   Razer   \n",
       "\n",
       "           Model                CPU  RAM  Storage Storage type       GPU  \\\n",
       "0     ExpertBook      Intel Core i5    8      512          SSD       NaN   \n",
       "1             Go      Intel Celeron    8      256          SSD       NaN   \n",
       "2     ExpertBook      Intel Core i3    8      256          SSD       NaN   \n",
       "3         Katana      Intel Core i7   16     1000          SSD  RTX 3050   \n",
       "4            15S      Intel Core i5   16      512          SSD       NaN   \n",
       "...          ...                ...  ...      ...          ...       ...   \n",
       "2155       Blade      Intel Core i7   16     1000          SSD  RTX 3060   \n",
       "2156       Blade      Intel Core i7   16     1000          SSD  RTX 3070   \n",
       "2157       Blade      Intel Core i7   32     1000          SSD  RTX 3080   \n",
       "2158        Book  Intel Evo Core i7   16     1000          SSD       NaN   \n",
       "2159        Book  Intel Evo Core i7   16      256          SSD       NaN   \n",
       "\n",
       "      Screen Touch  Final Price  \n",
       "0       15.6    No      1009.00  \n",
       "1       15.6    No       299.00  \n",
       "2       15.6    No       789.00  \n",
       "3       15.6    No      1199.00  \n",
       "4       15.6    No       669.01  \n",
       "...      ...   ...          ...  \n",
       "2155    17.3    No      2699.99  \n",
       "2156    17.3    No      2899.99  \n",
       "2157    17.3    No      3399.99  \n",
       "2158    13.4   Yes      1899.99  \n",
       "2159    13.4   Yes      1699.99  \n",
       "\n",
       "[2160 rows x 12 columns]"
      ]
     },
     "execution_count": 2,
     "metadata": {},
     "output_type": "execute_result"
    }
   ],
   "source": [
    "df_price = pd.read_csv(\"laptops.csv\")\n",
    "df_price"
   ]
  },
  {
   "cell_type": "code",
   "execution_count": 3,
   "id": "9c0e2562-3906-47da-8760-d6749191c552",
   "metadata": {},
   "outputs": [
    {
     "data": {
      "text/html": [
       "<div>\n",
       "<style scoped>\n",
       "    .dataframe tbody tr th:only-of-type {\n",
       "        vertical-align: middle;\n",
       "    }\n",
       "\n",
       "    .dataframe tbody tr th {\n",
       "        vertical-align: top;\n",
       "    }\n",
       "\n",
       "    .dataframe thead th {\n",
       "        text-align: right;\n",
       "    }\n",
       "</style>\n",
       "<table border=\"1\" class=\"dataframe\">\n",
       "  <thead>\n",
       "    <tr style=\"text-align: right;\">\n",
       "      <th></th>\n",
       "      <th>Laptop</th>\n",
       "      <th>Status</th>\n",
       "      <th>Brand</th>\n",
       "      <th>Model</th>\n",
       "      <th>CPU</th>\n",
       "      <th>RAM</th>\n",
       "      <th>Storage</th>\n",
       "      <th>Storage type</th>\n",
       "      <th>GPU</th>\n",
       "      <th>Screen</th>\n",
       "      <th>Touch</th>\n",
       "      <th>Final Price</th>\n",
       "    </tr>\n",
       "  </thead>\n",
       "  <tbody>\n",
       "    <tr>\n",
       "      <th>0</th>\n",
       "      <td>ASUS ExpertBook B1 B1502CBA-EJ0436X Intel Core...</td>\n",
       "      <td>New</td>\n",
       "      <td>Asus</td>\n",
       "      <td>ExpertBook</td>\n",
       "      <td>Intel Core i5</td>\n",
       "      <td>8</td>\n",
       "      <td>512</td>\n",
       "      <td>SSD</td>\n",
       "      <td>NaN</td>\n",
       "      <td>15.6</td>\n",
       "      <td>No</td>\n",
       "      <td>1009.00</td>\n",
       "    </tr>\n",
       "    <tr>\n",
       "      <th>1</th>\n",
       "      <td>Alurin Go Start Intel Celeron N4020/8GB/256GB ...</td>\n",
       "      <td>New</td>\n",
       "      <td>Alurin</td>\n",
       "      <td>Go</td>\n",
       "      <td>Intel Celeron</td>\n",
       "      <td>8</td>\n",
       "      <td>256</td>\n",
       "      <td>SSD</td>\n",
       "      <td>NaN</td>\n",
       "      <td>15.6</td>\n",
       "      <td>No</td>\n",
       "      <td>299.00</td>\n",
       "    </tr>\n",
       "    <tr>\n",
       "      <th>2</th>\n",
       "      <td>ASUS ExpertBook B1 B1502CBA-EJ0424X Intel Core...</td>\n",
       "      <td>New</td>\n",
       "      <td>Asus</td>\n",
       "      <td>ExpertBook</td>\n",
       "      <td>Intel Core i3</td>\n",
       "      <td>8</td>\n",
       "      <td>256</td>\n",
       "      <td>SSD</td>\n",
       "      <td>NaN</td>\n",
       "      <td>15.6</td>\n",
       "      <td>No</td>\n",
       "      <td>789.00</td>\n",
       "    </tr>\n",
       "    <tr>\n",
       "      <th>3</th>\n",
       "      <td>MSI Katana GF66 12UC-082XES Intel Core i7-1270...</td>\n",
       "      <td>New</td>\n",
       "      <td>MSI</td>\n",
       "      <td>Katana</td>\n",
       "      <td>Intel Core i7</td>\n",
       "      <td>16</td>\n",
       "      <td>1000</td>\n",
       "      <td>SSD</td>\n",
       "      <td>RTX 3050</td>\n",
       "      <td>15.6</td>\n",
       "      <td>No</td>\n",
       "      <td>1199.00</td>\n",
       "    </tr>\n",
       "    <tr>\n",
       "      <th>4</th>\n",
       "      <td>HP 15S-FQ5085NS Intel Core i5-1235U/16GB/512GB...</td>\n",
       "      <td>New</td>\n",
       "      <td>HP</td>\n",
       "      <td>15S</td>\n",
       "      <td>Intel Core i5</td>\n",
       "      <td>16</td>\n",
       "      <td>512</td>\n",
       "      <td>SSD</td>\n",
       "      <td>NaN</td>\n",
       "      <td>15.6</td>\n",
       "      <td>No</td>\n",
       "      <td>669.01</td>\n",
       "    </tr>\n",
       "  </tbody>\n",
       "</table>\n",
       "</div>"
      ],
      "text/plain": [
       "                                              Laptop Status   Brand  \\\n",
       "0  ASUS ExpertBook B1 B1502CBA-EJ0436X Intel Core...    New    Asus   \n",
       "1  Alurin Go Start Intel Celeron N4020/8GB/256GB ...    New  Alurin   \n",
       "2  ASUS ExpertBook B1 B1502CBA-EJ0424X Intel Core...    New    Asus   \n",
       "3  MSI Katana GF66 12UC-082XES Intel Core i7-1270...    New     MSI   \n",
       "4  HP 15S-FQ5085NS Intel Core i5-1235U/16GB/512GB...    New      HP   \n",
       "\n",
       "        Model            CPU  RAM  Storage Storage type       GPU  Screen  \\\n",
       "0  ExpertBook  Intel Core i5    8      512          SSD       NaN    15.6   \n",
       "1          Go  Intel Celeron    8      256          SSD       NaN    15.6   \n",
       "2  ExpertBook  Intel Core i3    8      256          SSD       NaN    15.6   \n",
       "3      Katana  Intel Core i7   16     1000          SSD  RTX 3050    15.6   \n",
       "4         15S  Intel Core i5   16      512          SSD       NaN    15.6   \n",
       "\n",
       "  Touch  Final Price  \n",
       "0    No      1009.00  \n",
       "1    No       299.00  \n",
       "2    No       789.00  \n",
       "3    No      1199.00  \n",
       "4    No       669.01  "
      ]
     },
     "execution_count": 3,
     "metadata": {},
     "output_type": "execute_result"
    }
   ],
   "source": [
    "df_price.head()"
   ]
  },
  {
   "cell_type": "code",
   "execution_count": 4,
   "id": "88291bfd-5c10-4493-947c-13209ca694fb",
   "metadata": {},
   "outputs": [
    {
     "data": {
      "text/html": [
       "<div>\n",
       "<style scoped>\n",
       "    .dataframe tbody tr th:only-of-type {\n",
       "        vertical-align: middle;\n",
       "    }\n",
       "\n",
       "    .dataframe tbody tr th {\n",
       "        vertical-align: top;\n",
       "    }\n",
       "\n",
       "    .dataframe thead th {\n",
       "        text-align: right;\n",
       "    }\n",
       "</style>\n",
       "<table border=\"1\" class=\"dataframe\">\n",
       "  <thead>\n",
       "    <tr style=\"text-align: right;\">\n",
       "      <th></th>\n",
       "      <th>Laptop</th>\n",
       "      <th>Status</th>\n",
       "      <th>Brand</th>\n",
       "      <th>Model</th>\n",
       "      <th>CPU</th>\n",
       "      <th>RAM</th>\n",
       "      <th>Storage</th>\n",
       "      <th>Storage type</th>\n",
       "      <th>GPU</th>\n",
       "      <th>Screen</th>\n",
       "      <th>Touch</th>\n",
       "      <th>Final Price</th>\n",
       "    </tr>\n",
       "  </thead>\n",
       "  <tbody>\n",
       "    <tr>\n",
       "      <th>2155</th>\n",
       "      <td>Razer Blade 17 FHD 360Hz Intel Core i7-11800H/...</td>\n",
       "      <td>Refurbished</td>\n",
       "      <td>Razer</td>\n",
       "      <td>Blade</td>\n",
       "      <td>Intel Core i7</td>\n",
       "      <td>16</td>\n",
       "      <td>1000</td>\n",
       "      <td>SSD</td>\n",
       "      <td>RTX 3060</td>\n",
       "      <td>17.3</td>\n",
       "      <td>No</td>\n",
       "      <td>2699.99</td>\n",
       "    </tr>\n",
       "    <tr>\n",
       "      <th>2156</th>\n",
       "      <td>Razer Blade 17 FHD 360Hz Intel Core i7-11800H/...</td>\n",
       "      <td>Refurbished</td>\n",
       "      <td>Razer</td>\n",
       "      <td>Blade</td>\n",
       "      <td>Intel Core i7</td>\n",
       "      <td>16</td>\n",
       "      <td>1000</td>\n",
       "      <td>SSD</td>\n",
       "      <td>RTX 3070</td>\n",
       "      <td>17.3</td>\n",
       "      <td>No</td>\n",
       "      <td>2899.99</td>\n",
       "    </tr>\n",
       "    <tr>\n",
       "      <th>2157</th>\n",
       "      <td>Razer Blade 17 FHD 360Hz Intel Core i7-11800H/...</td>\n",
       "      <td>Refurbished</td>\n",
       "      <td>Razer</td>\n",
       "      <td>Blade</td>\n",
       "      <td>Intel Core i7</td>\n",
       "      <td>32</td>\n",
       "      <td>1000</td>\n",
       "      <td>SSD</td>\n",
       "      <td>RTX 3080</td>\n",
       "      <td>17.3</td>\n",
       "      <td>No</td>\n",
       "      <td>3399.99</td>\n",
       "    </tr>\n",
       "    <tr>\n",
       "      <th>2158</th>\n",
       "      <td>Razer Book 13 Intel Evo Core i7-1165G7/16GB/1T...</td>\n",
       "      <td>Refurbished</td>\n",
       "      <td>Razer</td>\n",
       "      <td>Book</td>\n",
       "      <td>Intel Evo Core i7</td>\n",
       "      <td>16</td>\n",
       "      <td>1000</td>\n",
       "      <td>SSD</td>\n",
       "      <td>NaN</td>\n",
       "      <td>13.4</td>\n",
       "      <td>Yes</td>\n",
       "      <td>1899.99</td>\n",
       "    </tr>\n",
       "    <tr>\n",
       "      <th>2159</th>\n",
       "      <td>Razer Book FHD+ Intel Evo Core i7-1165G7/16GB/...</td>\n",
       "      <td>Refurbished</td>\n",
       "      <td>Razer</td>\n",
       "      <td>Book</td>\n",
       "      <td>Intel Evo Core i7</td>\n",
       "      <td>16</td>\n",
       "      <td>256</td>\n",
       "      <td>SSD</td>\n",
       "      <td>NaN</td>\n",
       "      <td>13.4</td>\n",
       "      <td>Yes</td>\n",
       "      <td>1699.99</td>\n",
       "    </tr>\n",
       "  </tbody>\n",
       "</table>\n",
       "</div>"
      ],
      "text/plain": [
       "                                                 Laptop       Status  Brand  \\\n",
       "2155  Razer Blade 17 FHD 360Hz Intel Core i7-11800H/...  Refurbished  Razer   \n",
       "2156  Razer Blade 17 FHD 360Hz Intel Core i7-11800H/...  Refurbished  Razer   \n",
       "2157  Razer Blade 17 FHD 360Hz Intel Core i7-11800H/...  Refurbished  Razer   \n",
       "2158  Razer Book 13 Intel Evo Core i7-1165G7/16GB/1T...  Refurbished  Razer   \n",
       "2159  Razer Book FHD+ Intel Evo Core i7-1165G7/16GB/...  Refurbished  Razer   \n",
       "\n",
       "      Model                CPU  RAM  Storage Storage type       GPU  Screen  \\\n",
       "2155  Blade      Intel Core i7   16     1000          SSD  RTX 3060    17.3   \n",
       "2156  Blade      Intel Core i7   16     1000          SSD  RTX 3070    17.3   \n",
       "2157  Blade      Intel Core i7   32     1000          SSD  RTX 3080    17.3   \n",
       "2158   Book  Intel Evo Core i7   16     1000          SSD       NaN    13.4   \n",
       "2159   Book  Intel Evo Core i7   16      256          SSD       NaN    13.4   \n",
       "\n",
       "     Touch  Final Price  \n",
       "2155    No      2699.99  \n",
       "2156    No      2899.99  \n",
       "2157    No      3399.99  \n",
       "2158   Yes      1899.99  \n",
       "2159   Yes      1699.99  "
      ]
     },
     "execution_count": 4,
     "metadata": {},
     "output_type": "execute_result"
    }
   ],
   "source": [
    "df_price.tail()"
   ]
  },
  {
   "cell_type": "code",
   "execution_count": 5,
   "id": "7cd3fe0b-b583-45bc-82f4-0ec0706b3372",
   "metadata": {},
   "outputs": [
    {
     "data": {
      "text/plain": [
       "Index(['Laptop', 'Status', 'Brand', 'Model', 'CPU', 'RAM', 'Storage',\n",
       "       'Storage type', 'GPU', 'Screen', 'Touch', 'Final Price'],\n",
       "      dtype='object')"
      ]
     },
     "execution_count": 5,
     "metadata": {},
     "output_type": "execute_result"
    }
   ],
   "source": [
    "df_price.columns"
   ]
  },
  {
   "cell_type": "code",
   "execution_count": 6,
   "id": "bab9ae40-e95d-4df9-9937-335481ce22e6",
   "metadata": {},
   "outputs": [
    {
     "data": {
      "text/plain": [
       "Index(['laptop', 'status', 'brand', 'model', 'cpu', 'ram', 'storage',\n",
       "       'storage type', 'gpu', 'screen', 'touch', 'final price'],\n",
       "      dtype='object')"
      ]
     },
     "execution_count": 6,
     "metadata": {},
     "output_type": "execute_result"
    }
   ],
   "source": [
    "df_price.columns = df_price.columns.str.lower()\n",
    "df_price.columns"
   ]
  },
  {
   "cell_type": "code",
   "execution_count": 7,
   "id": "8d02dddd-88d9-4883-a55f-84ac9c01dd14",
   "metadata": {},
   "outputs": [
    {
     "data": {
      "text/plain": [
       "Index(['laptop', 'status', 'brand', 'model', 'cpu', 'ram', 'storage',\n",
       "       'storage_type', 'gpu', 'screen', 'touch', 'final_price'],\n",
       "      dtype='object')"
      ]
     },
     "execution_count": 7,
     "metadata": {},
     "output_type": "execute_result"
    }
   ],
   "source": [
    "df_price.columns = df_price.columns.str.replace(' ', '_')\n",
    "df_price.columns"
   ]
  },
  {
   "cell_type": "code",
   "execution_count": 8,
   "id": "ed9453bb-9572-4cfb-b271-27a87a7add54",
   "metadata": {},
   "outputs": [
    {
     "data": {
      "text/html": [
       "<div>\n",
       "<style scoped>\n",
       "    .dataframe tbody tr th:only-of-type {\n",
       "        vertical-align: middle;\n",
       "    }\n",
       "\n",
       "    .dataframe tbody tr th {\n",
       "        vertical-align: top;\n",
       "    }\n",
       "\n",
       "    .dataframe thead th {\n",
       "        text-align: right;\n",
       "    }\n",
       "</style>\n",
       "<table border=\"1\" class=\"dataframe\">\n",
       "  <thead>\n",
       "    <tr style=\"text-align: right;\">\n",
       "      <th></th>\n",
       "      <th>ram</th>\n",
       "      <th>storage</th>\n",
       "      <th>screen</th>\n",
       "      <th>final_price</th>\n",
       "    </tr>\n",
       "  </thead>\n",
       "  <tbody>\n",
       "    <tr>\n",
       "      <th>0</th>\n",
       "      <td>8</td>\n",
       "      <td>512</td>\n",
       "      <td>15.6</td>\n",
       "      <td>1009.00</td>\n",
       "    </tr>\n",
       "    <tr>\n",
       "      <th>1</th>\n",
       "      <td>8</td>\n",
       "      <td>256</td>\n",
       "      <td>15.6</td>\n",
       "      <td>299.00</td>\n",
       "    </tr>\n",
       "    <tr>\n",
       "      <th>2</th>\n",
       "      <td>8</td>\n",
       "      <td>256</td>\n",
       "      <td>15.6</td>\n",
       "      <td>789.00</td>\n",
       "    </tr>\n",
       "    <tr>\n",
       "      <th>3</th>\n",
       "      <td>16</td>\n",
       "      <td>1000</td>\n",
       "      <td>15.6</td>\n",
       "      <td>1199.00</td>\n",
       "    </tr>\n",
       "    <tr>\n",
       "      <th>4</th>\n",
       "      <td>16</td>\n",
       "      <td>512</td>\n",
       "      <td>15.6</td>\n",
       "      <td>669.01</td>\n",
       "    </tr>\n",
       "    <tr>\n",
       "      <th>...</th>\n",
       "      <td>...</td>\n",
       "      <td>...</td>\n",
       "      <td>...</td>\n",
       "      <td>...</td>\n",
       "    </tr>\n",
       "    <tr>\n",
       "      <th>2155</th>\n",
       "      <td>16</td>\n",
       "      <td>1000</td>\n",
       "      <td>17.3</td>\n",
       "      <td>2699.99</td>\n",
       "    </tr>\n",
       "    <tr>\n",
       "      <th>2156</th>\n",
       "      <td>16</td>\n",
       "      <td>1000</td>\n",
       "      <td>17.3</td>\n",
       "      <td>2899.99</td>\n",
       "    </tr>\n",
       "    <tr>\n",
       "      <th>2157</th>\n",
       "      <td>32</td>\n",
       "      <td>1000</td>\n",
       "      <td>17.3</td>\n",
       "      <td>3399.99</td>\n",
       "    </tr>\n",
       "    <tr>\n",
       "      <th>2158</th>\n",
       "      <td>16</td>\n",
       "      <td>1000</td>\n",
       "      <td>13.4</td>\n",
       "      <td>1899.99</td>\n",
       "    </tr>\n",
       "    <tr>\n",
       "      <th>2159</th>\n",
       "      <td>16</td>\n",
       "      <td>256</td>\n",
       "      <td>13.4</td>\n",
       "      <td>1699.99</td>\n",
       "    </tr>\n",
       "  </tbody>\n",
       "</table>\n",
       "<p>2160 rows × 4 columns</p>\n",
       "</div>"
      ],
      "text/plain": [
       "      ram  storage  screen  final_price\n",
       "0       8      512    15.6      1009.00\n",
       "1       8      256    15.6       299.00\n",
       "2       8      256    15.6       789.00\n",
       "3      16     1000    15.6      1199.00\n",
       "4      16      512    15.6       669.01\n",
       "...   ...      ...     ...          ...\n",
       "2155   16     1000    17.3      2699.99\n",
       "2156   16     1000    17.3      2899.99\n",
       "2157   32     1000    17.3      3399.99\n",
       "2158   16     1000    13.4      1899.99\n",
       "2159   16      256    13.4      1699.99\n",
       "\n",
       "[2160 rows x 4 columns]"
      ]
     },
     "execution_count": 8,
     "metadata": {},
     "output_type": "execute_result"
    }
   ],
   "source": [
    "base = [\"ram\", \"storage\", \"screen\", \"final_price\"]\n",
    "df_price = df_price[base]\n",
    "df_price"
   ]
  },
  {
   "cell_type": "code",
   "execution_count": 9,
   "id": "74854455-9e5d-4bd5-b36e-f139a91e17a2",
   "metadata": {},
   "outputs": [
    {
     "data": {
      "text/plain": [
       "<Axes: xlabel='final_price', ylabel='Count'>"
      ]
     },
     "execution_count": 9,
     "metadata": {},
     "output_type": "execute_result"
    },
    {
     "data": {
      "image/png": "[encoded data removed]",
      "text/plain": [
       "<Figure size 640x480 with 1 Axes>"
      ]
     },
     "metadata": {},
     "output_type": "display_data"
    }
   ],
   "source": [
    "sns.histplot(df_price[\"final_price\"], bins = 50, alpha = 0.5)"
   ]
  },
  {
   "cell_type": "code",
   "execution_count": 10,
   "id": "b0d40595-370b-4f70-b1ab-ce2eb3da1c6a",
   "metadata": {},
   "outputs": [
    {
     "data": {
      "text/plain": [
       "ram            0\n",
       "storage        0\n",
       "screen         4\n",
       "final_price    0\n",
       "dtype: int64"
      ]
     },
     "execution_count": 10,
     "metadata": {},
     "output_type": "execute_result"
    }
   ],
   "source": [
    "df_price.isnull().sum()"
   ]
  },
  {
   "cell_type": "code",
   "execution_count": 11,
   "id": "97222b7b-d192-4463-a105-d53409d9c376",
   "metadata": {},
   "outputs": [
    {
     "data": {
      "text/plain": [
       "16.0"
      ]
     },
     "execution_count": 11,
     "metadata": {},
     "output_type": "execute_result"
    }
   ],
   "source": [
    "df_price[\"ram\"].median()"
   ]
  },
  {
   "cell_type": "code",
   "execution_count": 12,
   "id": "b52e5de7-9e2d-49cd-bcc8-963786b482d3",
   "metadata": {},
   "outputs": [
    {
     "data": {
      "text/html": [
       "<div>\n",
       "<style scoped>\n",
       "    .dataframe tbody tr th:only-of-type {\n",
       "        vertical-align: middle;\n",
       "    }\n",
       "\n",
       "    .dataframe tbody tr th {\n",
       "        vertical-align: top;\n",
       "    }\n",
       "\n",
       "    .dataframe thead th {\n",
       "        text-align: right;\n",
       "    }\n",
       "</style>\n",
       "<table border=\"1\" class=\"dataframe\">\n",
       "  <thead>\n",
       "    <tr style=\"text-align: right;\">\n",
       "      <th></th>\n",
       "      <th>ram</th>\n",
       "      <th>storage</th>\n",
       "      <th>screen</th>\n",
       "      <th>final_price</th>\n",
       "    </tr>\n",
       "  </thead>\n",
       "  <tbody>\n",
       "    <tr>\n",
       "      <th>count</th>\n",
       "      <td>2160.000000</td>\n",
       "      <td>2160.000000</td>\n",
       "      <td>2156.000000</td>\n",
       "      <td>2160.000000</td>\n",
       "    </tr>\n",
       "    <tr>\n",
       "      <th>mean</th>\n",
       "      <td>15.413889</td>\n",
       "      <td>596.294444</td>\n",
       "      <td>15.168112</td>\n",
       "      <td>1312.638509</td>\n",
       "    </tr>\n",
       "    <tr>\n",
       "      <th>std</th>\n",
       "      <td>9.867815</td>\n",
       "      <td>361.220506</td>\n",
       "      <td>1.203329</td>\n",
       "      <td>911.475417</td>\n",
       "    </tr>\n",
       "    <tr>\n",
       "      <th>min</th>\n",
       "      <td>4.000000</td>\n",
       "      <td>0.000000</td>\n",
       "      <td>10.100000</td>\n",
       "      <td>201.050000</td>\n",
       "    </tr>\n",
       "    <tr>\n",
       "      <th>25%</th>\n",
       "      <td>8.000000</td>\n",
       "      <td>256.000000</td>\n",
       "      <td>14.000000</td>\n",
       "      <td>661.082500</td>\n",
       "    </tr>\n",
       "    <tr>\n",
       "      <th>50%</th>\n",
       "      <td>16.000000</td>\n",
       "      <td>512.000000</td>\n",
       "      <td>15.600000</td>\n",
       "      <td>1031.945000</td>\n",
       "    </tr>\n",
       "    <tr>\n",
       "      <th>75%</th>\n",
       "      <td>16.000000</td>\n",
       "      <td>1000.000000</td>\n",
       "      <td>15.600000</td>\n",
       "      <td>1708.970000</td>\n",
       "    </tr>\n",
       "    <tr>\n",
       "      <th>max</th>\n",
       "      <td>128.000000</td>\n",
       "      <td>4000.000000</td>\n",
       "      <td>18.000000</td>\n",
       "      <td>7150.470000</td>\n",
       "    </tr>\n",
       "  </tbody>\n",
       "</table>\n",
       "</div>"
      ],
      "text/plain": [
       "               ram      storage       screen  final_price\n",
       "count  2160.000000  2160.000000  2156.000000  2160.000000\n",
       "mean     15.413889   596.294444    15.168112  1312.638509\n",
       "std       9.867815   361.220506     1.203329   911.475417\n",
       "min       4.000000     0.000000    10.100000   201.050000\n",
       "25%       8.000000   256.000000    14.000000   661.082500\n",
       "50%      16.000000   512.000000    15.600000  1031.945000\n",
       "75%      16.000000  1000.000000    15.600000  1708.970000\n",
       "max     128.000000  4000.000000    18.000000  7150.470000"
      ]
     },
     "execution_count": 12,
     "metadata": {},
     "output_type": "execute_result"
    }
   ],
   "source": [
    "df_price.describe()"
   ]
  },
  {
   "cell_type": "code",
   "execution_count": 13,
   "id": "8fb2faea-7fb0-4f1c-a407-f202faab560a",
   "metadata": {},
   "outputs": [
    {
     "data": {
      "text/plain": [
       "2160"
      ]
     },
     "execution_count": 13,
     "metadata": {},
     "output_type": "execute_result"
    }
   ],
   "source": [
    "len(df_price)"
   ]
  },
  {
   "cell_type": "code",
   "execution_count": 14,
   "id": "83f61949-8ca1-4765-831b-66f689dd4ed8",
   "metadata": {},
   "outputs": [],
   "source": [
    "n = len(df_price)\n",
    "n_val = int(n * 0.2)\n",
    "n_test =int( n * 0.2)\n",
    "n_train = n - n_val - n_test\n"
   ]
  },
  {
   "cell_type": "code",
   "execution_count": 15,
   "id": "a2aabfa8-640e-4646-bc3d-2a95acefc6dd",
   "metadata": {},
   "outputs": [
    {
     "data": {
      "text/plain": [
       "(1296, 432, 432)"
      ]
     },
     "execution_count": 15,
     "metadata": {},
     "output_type": "execute_result"
    }
   ],
   "source": [
    "n_train, n_test, n_val"
   ]
  },
  {
   "cell_type": "code",
   "execution_count": 16,
   "id": "b909ace4-4cc2-45d6-acef-f87b759ac61a",
   "metadata": {},
   "outputs": [],
   "source": [
    "idx = np.arange(n)\n",
    "np.random.shuffle(idx)\n",
    "np.random.seed(42)"
   ]
  },
  {
   "cell_type": "code",
   "execution_count": 17,
   "id": "dd457a92-90fb-446c-9218-0e664b721f56",
   "metadata": {},
   "outputs": [],
   "source": [
    "df_train = df_price.iloc[idx[:n_train]]\n",
    "df_val = df_price.iloc[idx[n_train:n_train+n_val]]\n",
    "df_test = df_price.iloc[idx[n_train:n_train+n_val:]]\n"
   ]
  },
  {
   "cell_type": "code",
   "execution_count": 18,
   "id": "7f413eda-eef0-4666-9160-e4eb36c3a8cd",
   "metadata": {},
   "outputs": [
    {
     "data": {
      "text/html": [
       "<div>\n",
       "<style scoped>\n",
       "    .dataframe tbody tr th:only-of-type {\n",
       "        vertical-align: middle;\n",
       "    }\n",
       "\n",
       "    .dataframe tbody tr th {\n",
       "        vertical-align: top;\n",
       "    }\n",
       "\n",
       "    .dataframe thead th {\n",
       "        text-align: right;\n",
       "    }\n",
       "</style>\n",
       "<table border=\"1\" class=\"dataframe\">\n",
       "  <thead>\n",
       "    <tr style=\"text-align: right;\">\n",
       "      <th></th>\n",
       "      <th>ram</th>\n",
       "      <th>storage</th>\n",
       "      <th>screen</th>\n",
       "      <th>final_price</th>\n",
       "    </tr>\n",
       "  </thead>\n",
       "  <tbody>\n",
       "    <tr>\n",
       "      <th>570</th>\n",
       "      <td>8</td>\n",
       "      <td>500</td>\n",
       "      <td>15.6</td>\n",
       "      <td>559.00</td>\n",
       "    </tr>\n",
       "    <tr>\n",
       "      <th>1026</th>\n",
       "      <td>16</td>\n",
       "      <td>1000</td>\n",
       "      <td>14.2</td>\n",
       "      <td>2749.00</td>\n",
       "    </tr>\n",
       "    <tr>\n",
       "      <th>295</th>\n",
       "      <td>16</td>\n",
       "      <td>512</td>\n",
       "      <td>14.2</td>\n",
       "      <td>2209.00</td>\n",
       "    </tr>\n",
       "    <tr>\n",
       "      <th>1049</th>\n",
       "      <td>8</td>\n",
       "      <td>512</td>\n",
       "      <td>15.6</td>\n",
       "      <td>536.48</td>\n",
       "    </tr>\n",
       "    <tr>\n",
       "      <th>1103</th>\n",
       "      <td>16</td>\n",
       "      <td>512</td>\n",
       "      <td>15.6</td>\n",
       "      <td>949.00</td>\n",
       "    </tr>\n",
       "    <tr>\n",
       "      <th>...</th>\n",
       "      <td>...</td>\n",
       "      <td>...</td>\n",
       "      <td>...</td>\n",
       "      <td>...</td>\n",
       "    </tr>\n",
       "    <tr>\n",
       "      <th>1870</th>\n",
       "      <td>16</td>\n",
       "      <td>1000</td>\n",
       "      <td>15.6</td>\n",
       "      <td>1699.00</td>\n",
       "    </tr>\n",
       "    <tr>\n",
       "      <th>98</th>\n",
       "      <td>16</td>\n",
       "      <td>512</td>\n",
       "      <td>15.6</td>\n",
       "      <td>949.00</td>\n",
       "    </tr>\n",
       "    <tr>\n",
       "      <th>513</th>\n",
       "      <td>16</td>\n",
       "      <td>1000</td>\n",
       "      <td>14.0</td>\n",
       "      <td>1989.01</td>\n",
       "    </tr>\n",
       "    <tr>\n",
       "      <th>1121</th>\n",
       "      <td>32</td>\n",
       "      <td>1000</td>\n",
       "      <td>17.0</td>\n",
       "      <td>3099.00</td>\n",
       "    </tr>\n",
       "    <tr>\n",
       "      <th>1663</th>\n",
       "      <td>8</td>\n",
       "      <td>256</td>\n",
       "      <td>14.0</td>\n",
       "      <td>799.00</td>\n",
       "    </tr>\n",
       "  </tbody>\n",
       "</table>\n",
       "<p>1296 rows × 4 columns</p>\n",
       "</div>"
      ],
      "text/plain": [
       "      ram  storage  screen  final_price\n",
       "570     8      500    15.6       559.00\n",
       "1026   16     1000    14.2      2749.00\n",
       "295    16      512    14.2      2209.00\n",
       "1049    8      512    15.6       536.48\n",
       "1103   16      512    15.6       949.00\n",
       "...   ...      ...     ...          ...\n",
       "1870   16     1000    15.6      1699.00\n",
       "98     16      512    15.6       949.00\n",
       "513    16     1000    14.0      1989.01\n",
       "1121   32     1000    17.0      3099.00\n",
       "1663    8      256    14.0       799.00\n",
       "\n",
       "[1296 rows x 4 columns]"
      ]
     },
     "execution_count": 18,
     "metadata": {},
     "output_type": "execute_result"
    }
   ],
   "source": [
    "df_train"
   ]
  },
  {
   "cell_type": "code",
   "execution_count": 19,
   "id": "a39f6406-3bb2-402f-ab50-d2e757b95500",
   "metadata": {},
   "outputs": [
    {
     "data": {
      "text/html": [
       "<div>\n",
       "<style scoped>\n",
       "    .dataframe tbody tr th:only-of-type {\n",
       "        vertical-align: middle;\n",
       "    }\n",
       "\n",
       "    .dataframe tbody tr th {\n",
       "        vertical-align: top;\n",
       "    }\n",
       "\n",
       "    .dataframe thead th {\n",
       "        text-align: right;\n",
       "    }\n",
       "</style>\n",
       "<table border=\"1\" class=\"dataframe\">\n",
       "  <thead>\n",
       "    <tr style=\"text-align: right;\">\n",
       "      <th></th>\n",
       "      <th>ram</th>\n",
       "      <th>storage</th>\n",
       "      <th>screen</th>\n",
       "      <th>final_price</th>\n",
       "    </tr>\n",
       "  </thead>\n",
       "  <tbody>\n",
       "    <tr>\n",
       "      <th>1113</th>\n",
       "      <td>16</td>\n",
       "      <td>512</td>\n",
       "      <td>13.3</td>\n",
       "      <td>1016.00</td>\n",
       "    </tr>\n",
       "    <tr>\n",
       "      <th>1744</th>\n",
       "      <td>16</td>\n",
       "      <td>1000</td>\n",
       "      <td>14.2</td>\n",
       "      <td>2500.01</td>\n",
       "    </tr>\n",
       "    <tr>\n",
       "      <th>582</th>\n",
       "      <td>16</td>\n",
       "      <td>512</td>\n",
       "      <td>15.6</td>\n",
       "      <td>824.00</td>\n",
       "    </tr>\n",
       "    <tr>\n",
       "      <th>96</th>\n",
       "      <td>8</td>\n",
       "      <td>512</td>\n",
       "      <td>15.6</td>\n",
       "      <td>599.00</td>\n",
       "    </tr>\n",
       "    <tr>\n",
       "      <th>449</th>\n",
       "      <td>8</td>\n",
       "      <td>512</td>\n",
       "      <td>15.6</td>\n",
       "      <td>338.81</td>\n",
       "    </tr>\n",
       "    <tr>\n",
       "      <th>...</th>\n",
       "      <td>...</td>\n",
       "      <td>...</td>\n",
       "      <td>...</td>\n",
       "      <td>...</td>\n",
       "    </tr>\n",
       "    <tr>\n",
       "      <th>1670</th>\n",
       "      <td>16</td>\n",
       "      <td>500</td>\n",
       "      <td>14.0</td>\n",
       "      <td>994.00</td>\n",
       "    </tr>\n",
       "    <tr>\n",
       "      <th>555</th>\n",
       "      <td>8</td>\n",
       "      <td>256</td>\n",
       "      <td>15.6</td>\n",
       "      <td>552.33</td>\n",
       "    </tr>\n",
       "    <tr>\n",
       "      <th>646</th>\n",
       "      <td>16</td>\n",
       "      <td>512</td>\n",
       "      <td>15.6</td>\n",
       "      <td>1180.29</td>\n",
       "    </tr>\n",
       "    <tr>\n",
       "      <th>1575</th>\n",
       "      <td>8</td>\n",
       "      <td>512</td>\n",
       "      <td>15.6</td>\n",
       "      <td>661.77</td>\n",
       "    </tr>\n",
       "    <tr>\n",
       "      <th>94</th>\n",
       "      <td>16</td>\n",
       "      <td>512</td>\n",
       "      <td>15.6</td>\n",
       "      <td>749.00</td>\n",
       "    </tr>\n",
       "  </tbody>\n",
       "</table>\n",
       "<p>432 rows × 4 columns</p>\n",
       "</div>"
      ],
      "text/plain": [
       "      ram  storage  screen  final_price\n",
       "1113   16      512    13.3      1016.00\n",
       "1744   16     1000    14.2      2500.01\n",
       "582    16      512    15.6       824.00\n",
       "96      8      512    15.6       599.00\n",
       "449     8      512    15.6       338.81\n",
       "...   ...      ...     ...          ...\n",
       "1670   16      500    14.0       994.00\n",
       "555     8      256    15.6       552.33\n",
       "646    16      512    15.6      1180.29\n",
       "1575    8      512    15.6       661.77\n",
       "94     16      512    15.6       749.00\n",
       "\n",
       "[432 rows x 4 columns]"
      ]
     },
     "execution_count": 19,
     "metadata": {},
     "output_type": "execute_result"
    }
   ],
   "source": [
    "df_val"
   ]
  },
  {
   "cell_type": "code",
   "execution_count": 20,
   "id": "0cb5d731-8204-44fc-9e1e-2427ee81198f",
   "metadata": {},
   "outputs": [
    {
     "data": {
      "text/html": [
       "<div>\n",
       "<style scoped>\n",
       "    .dataframe tbody tr th:only-of-type {\n",
       "        vertical-align: middle;\n",
       "    }\n",
       "\n",
       "    .dataframe tbody tr th {\n",
       "        vertical-align: top;\n",
       "    }\n",
       "\n",
       "    .dataframe thead th {\n",
       "        text-align: right;\n",
       "    }\n",
       "</style>\n",
       "<table border=\"1\" class=\"dataframe\">\n",
       "  <thead>\n",
       "    <tr style=\"text-align: right;\">\n",
       "      <th></th>\n",
       "      <th>ram</th>\n",
       "      <th>storage</th>\n",
       "      <th>screen</th>\n",
       "      <th>final_price</th>\n",
       "    </tr>\n",
       "  </thead>\n",
       "  <tbody>\n",
       "    <tr>\n",
       "      <th>1113</th>\n",
       "      <td>16</td>\n",
       "      <td>512</td>\n",
       "      <td>13.3</td>\n",
       "      <td>1016.00</td>\n",
       "    </tr>\n",
       "    <tr>\n",
       "      <th>1744</th>\n",
       "      <td>16</td>\n",
       "      <td>1000</td>\n",
       "      <td>14.2</td>\n",
       "      <td>2500.01</td>\n",
       "    </tr>\n",
       "    <tr>\n",
       "      <th>582</th>\n",
       "      <td>16</td>\n",
       "      <td>512</td>\n",
       "      <td>15.6</td>\n",
       "      <td>824.00</td>\n",
       "    </tr>\n",
       "    <tr>\n",
       "      <th>96</th>\n",
       "      <td>8</td>\n",
       "      <td>512</td>\n",
       "      <td>15.6</td>\n",
       "      <td>599.00</td>\n",
       "    </tr>\n",
       "    <tr>\n",
       "      <th>449</th>\n",
       "      <td>8</td>\n",
       "      <td>512</td>\n",
       "      <td>15.6</td>\n",
       "      <td>338.81</td>\n",
       "    </tr>\n",
       "    <tr>\n",
       "      <th>...</th>\n",
       "      <td>...</td>\n",
       "      <td>...</td>\n",
       "      <td>...</td>\n",
       "      <td>...</td>\n",
       "    </tr>\n",
       "    <tr>\n",
       "      <th>1670</th>\n",
       "      <td>16</td>\n",
       "      <td>500</td>\n",
       "      <td>14.0</td>\n",
       "      <td>994.00</td>\n",
       "    </tr>\n",
       "    <tr>\n",
       "      <th>555</th>\n",
       "      <td>8</td>\n",
       "      <td>256</td>\n",
       "      <td>15.6</td>\n",
       "      <td>552.33</td>\n",
       "    </tr>\n",
       "    <tr>\n",
       "      <th>646</th>\n",
       "      <td>16</td>\n",
       "      <td>512</td>\n",
       "      <td>15.6</td>\n",
       "      <td>1180.29</td>\n",
       "    </tr>\n",
       "    <tr>\n",
       "      <th>1575</th>\n",
       "      <td>8</td>\n",
       "      <td>512</td>\n",
       "      <td>15.6</td>\n",
       "      <td>661.77</td>\n",
       "    </tr>\n",
       "    <tr>\n",
       "      <th>94</th>\n",
       "      <td>16</td>\n",
       "      <td>512</td>\n",
       "      <td>15.6</td>\n",
       "      <td>749.00</td>\n",
       "    </tr>\n",
       "  </tbody>\n",
       "</table>\n",
       "<p>432 rows × 4 columns</p>\n",
       "</div>"
      ],
      "text/plain": [
       "      ram  storage  screen  final_price\n",
       "1113   16      512    13.3      1016.00\n",
       "1744   16     1000    14.2      2500.01\n",
       "582    16      512    15.6       824.00\n",
       "96      8      512    15.6       599.00\n",
       "449     8      512    15.6       338.81\n",
       "...   ...      ...     ...          ...\n",
       "1670   16      500    14.0       994.00\n",
       "555     8      256    15.6       552.33\n",
       "646    16      512    15.6      1180.29\n",
       "1575    8      512    15.6       661.77\n",
       "94     16      512    15.6       749.00\n",
       "\n",
       "[432 rows x 4 columns]"
      ]
     },
     "execution_count": 20,
     "metadata": {},
     "output_type": "execute_result"
    }
   ],
   "source": [
    "df_test"
   ]
  },
  {
   "cell_type": "code",
   "execution_count": 21,
   "id": "4d9eb429-5337-49c9-b23e-56779636ec89",
   "metadata": {},
   "outputs": [],
   "source": [
    "y_train = df_train.final_price.values\n",
    "y_val = df_val.final_price.values\n",
    "y_test = df_test.final_price.values"
   ]
  },
  {
   "cell_type": "code",
   "execution_count": 22,
   "id": "18525f4a-559d-4bba-833d-50dd38427db0",
   "metadata": {},
   "outputs": [
    {
     "data": {
      "text/plain": [
       "array([ 559.  , 2749.  , 2209.  , ..., 1989.01, 3099.  ,  799.  ])"
      ]
     },
     "execution_count": 22,
     "metadata": {},
     "output_type": "execute_result"
    }
   ],
   "source": [
    "y_train"
   ]
  },
  {
   "cell_type": "code",
   "execution_count": 23,
   "id": "6f29e5cd-77db-4ac9-8a72-766605233617",
   "metadata": {},
   "outputs": [
    {
     "data": {
      "text/plain": [
       "array([1016.  , 2500.01,  824.  ,  599.  ,  338.81, 2099.  ,  999.  ,\n",
       "       1658.99, 1339.45,  919.83,  332.41, 2729.01, 3499.  ,  416.  ,\n",
       "       1671.  , 3394.99, 1721.09,  499.  ,  329.95, 3299.  , 1599.  ,\n",
       "        609.  , 1329.2 ,  439.99,  545.38, 1139.01, 1637.09, 2799.99,\n",
       "        799.  , 1064.59,  407.49, 1463.31, 1162.  , 1295.89, 1029.99,\n",
       "        246.89, 1217.01, 5199.  ,  869.  ,  384.27,  283.42,  999.  ,\n",
       "        806.49, 1699.01,  794.99, 1149.  ,  650.36, 1299.75,  767.75,\n",
       "        465.  , 1278.99,  445.79,  789.  , 2499.  ,  896.57,  969.  ,\n",
       "       2269.  ,  688.88, 2577.98,  479.  ,  469.  ,  916.94, 3499.01,\n",
       "       1599.  , 2349.01,  391.  ,  435.  , 2353.24, 1949.9 , 1782.  ,\n",
       "       1629.  ,  563.62,  635.  , 1299.01, 1061.  ,  509.99,  709.65,\n",
       "       1086.88, 1599.  ,  399.37, 1219.  , 2025.23, 1123.  ,  402.22,\n",
       "        569.04, 1863.52,  739.  , 1599.  , 4299.01,  230.14, 2595.  ,\n",
       "       2328.  ,  391.17, 1064.  ,  529.  , 1439.26, 1312.  , 1233.38,\n",
       "       1029.  , 2373.14, 1161.  ,  699.  , 1319.01,  349.  , 2312.71,\n",
       "       2256.03, 2099.  ,  794.99,  875.06,  239.  , 1289.17, 1099.  ,\n",
       "        407.69, 1015.01,  999.  , 1699.  ,  669.01,  564.62, 1869.  ,\n",
       "        499.  ,  498.  ,  663.38, 1960.24, 2068.  ,  519.  ,  909.  ,\n",
       "        617.54, 1599.  , 1489.  ,  385.  , 1882.19,  749.  ,  208.99,\n",
       "        729.  , 2599.  ,  563.23,  675.95, 1252.5 , 1846.85, 3943.37,\n",
       "       1399.  , 1399.24,  355.01, 1640.98, 1499.  , 1098.08,  749.  ,\n",
       "       1699.9 , 2449.  , 1095.  , 2660.55,  628.96,  996.21, 1859.01,\n",
       "       2599.  ,  860.  , 1094.9 , 2646.  , 1912.01, 1199.  , 1377.62,\n",
       "       1927.84,  751.88, 1299.  ,  712.99, 1234.33,  699.  ,  408.  ,\n",
       "       1499.  , 1899.  , 3337.69, 1189.  , 2999.01, 1899.  , 1529.  ,\n",
       "       2175.  , 2659.  ,  439.  , 3129.  ,  950.  , 1375.3 ,  547.91,\n",
       "        911.84, 2599.  ,  529.  ,  675.24, 1304.79, 2711.4 , 1399.  ,\n",
       "       1491.33,  399.  ,  942.08, 1149.  , 1549.  , 1675.2 ,  663.69,\n",
       "        880.19,  498.73,  887.87,  959.  , 1749.  , 2899.99, 1589.01,\n",
       "       1949.01,  335.28,  442.99, 2150.38,  471.63, 3936.  , 1599.  ,\n",
       "        429.9 ,  349.  ,  620.  ,  769.58,  854.59, 3699.  , 2599.  ,\n",
       "        764.34, 1123.  ,  786.92, 1561.  , 1929.01,  860.79,  544.58,\n",
       "        549.99, 1162.  ,  649.  , 1944.  ,  399.  ,  556.22, 1093.69,\n",
       "       1720.54,  499.  , 1749.  , 1496.56,  729.  , 3199.  , 3499.  ,\n",
       "       1467.58,  976.18, 1183.68,  629.01, 1419.  , 1123.  , 2050.99,\n",
       "       3099.  , 1449.5 , 1869.  ,  599.  ,  422.  ,  739.01,  628.99,\n",
       "        884.99, 1848.46, 3499.01,  652.92, 2102.18, 1582.84,  509.  ,\n",
       "       3279.  , 1649.  , 2671.99, 1099.  ,  599.  ,  376.  , 2914.18,\n",
       "       2299.  , 1979.  ,  382.  , 3061.31,  759.01, 1549.  ,  757.53,\n",
       "       1074.06, 1135.  ,  614.99,  809.01,  924.98,  639.  ,  915.78,\n",
       "        474.86, 1430.18,  599.  , 1501.55,  399.  , 3599.  , 1009.  ,\n",
       "       1627.  ,  465.26,  291.69, 1699.01, 3777.49, 1929.01, 1888.94,\n",
       "       2502.66, 1799.  , 2999.  , 3099.98,  729.  , 2360.08,  461.48,\n",
       "        614.  , 2014.58,  684.65,  486.  ,  666.44,  589.  , 1190.  ,\n",
       "       1899.01,  553.58,  399.  , 1699.  , 2179.  ,  926.65,  609.04,\n",
       "        734.64, 1479.9 , 1020.84,  899.99, 2866.57, 1397.54, 1333.69,\n",
       "        549.  , 1479.9 ,  588.29,  417.99, 1423.48, 1931.64,  484.5 ,\n",
       "       1155.01, 1071.49,  816.21,  513.87, 1619.  ,  490.  , 1271.  ,\n",
       "        853.59, 1349.  ,  388.  ,  359.9 ,  799.  , 1039.  , 1799.  ,\n",
       "       1349.  , 1349.9 ,  649.  ,  371.  ,  469.9 , 3469.  , 1599.9 ,\n",
       "        201.05, 1410.65,  331.75, 2049.  , 1069.  ,  864.23,  379.  ,\n",
       "       1799.  , 1764.19,  470.86, 1199.  ,  608.94, 1599.98, 3249.  ,\n",
       "        571.39,  449.  , 1889.  ,  846.31, 1049.  ,  937.54,  394.  ,\n",
       "       1199.  , 1323.11, 1478.39, 1699.  , 1654.05, 1969.01,  784.69,\n",
       "       3012.09,  449.  ,  416.87, 3496.86,  539.01,  524.99,  727.49,\n",
       "        563.92,  424.  ,  905.84,  479.  ,  311.37,  499.  , 2499.98,\n",
       "        474.99,  565.01, 2079.  , 1020.24, 1399.  ,  789.84,  518.63,\n",
       "       2379.01, 3099.  ,  920.82,  398.1 , 2578.38, 1649.  ,  710.  ,\n",
       "        699.  , 1499.  , 1749.  , 1196.97, 1749.82,  432.26,  856.08,\n",
       "        264.14, 1474.28,  552.99, 2399.01, 1519.  , 1997.  , 1313.64,\n",
       "        267.49, 1902.  , 1219.  ,  494.35,  988.52, 1310.61,  779.  ,\n",
       "        994.  ,  552.33, 1180.29,  661.77,  749.  ])"
      ]
     },
     "execution_count": 23,
     "metadata": {},
     "output_type": "execute_result"
    }
   ],
   "source": [
    "y_val"
   ]
  },
  {
   "cell_type": "code",
   "execution_count": 24,
   "id": "f63090b3-9422-48bd-a908-60f0ddc8dda8",
   "metadata": {},
   "outputs": [
    {
     "data": {
      "text/plain": [
       "array([1016.  , 2500.01,  824.  ,  599.  ,  338.81, 2099.  ,  999.  ,\n",
       "       1658.99, 1339.45,  919.83,  332.41, 2729.01, 3499.  ,  416.  ,\n",
       "       1671.  , 3394.99, 1721.09,  499.  ,  329.95, 3299.  , 1599.  ,\n",
       "        609.  , 1329.2 ,  439.99,  545.38, 1139.01, 1637.09, 2799.99,\n",
       "        799.  , 1064.59,  407.49, 1463.31, 1162.  , 1295.89, 1029.99,\n",
       "        246.89, 1217.01, 5199.  ,  869.  ,  384.27,  283.42,  999.  ,\n",
       "        806.49, 1699.01,  794.99, 1149.  ,  650.36, 1299.75,  767.75,\n",
       "        465.  , 1278.99,  445.79,  789.  , 2499.  ,  896.57,  969.  ,\n",
       "       2269.  ,  688.88, 2577.98,  479.  ,  469.  ,  916.94, 3499.01,\n",
       "       1599.  , 2349.01,  391.  ,  435.  , 2353.24, 1949.9 , 1782.  ,\n",
       "       1629.  ,  563.62,  635.  , 1299.01, 1061.  ,  509.99,  709.65,\n",
       "       1086.88, 1599.  ,  399.37, 1219.  , 2025.23, 1123.  ,  402.22,\n",
       "        569.04, 1863.52,  739.  , 1599.  , 4299.01,  230.14, 2595.  ,\n",
       "       2328.  ,  391.17, 1064.  ,  529.  , 1439.26, 1312.  , 1233.38,\n",
       "       1029.  , 2373.14, 1161.  ,  699.  , 1319.01,  349.  , 2312.71,\n",
       "       2256.03, 2099.  ,  794.99,  875.06,  239.  , 1289.17, 1099.  ,\n",
       "        407.69, 1015.01,  999.  , 1699.  ,  669.01,  564.62, 1869.  ,\n",
       "        499.  ,  498.  ,  663.38, 1960.24, 2068.  ,  519.  ,  909.  ,\n",
       "        617.54, 1599.  , 1489.  ,  385.  , 1882.19,  749.  ,  208.99,\n",
       "        729.  , 2599.  ,  563.23,  675.95, 1252.5 , 1846.85, 3943.37,\n",
       "       1399.  , 1399.24,  355.01, 1640.98, 1499.  , 1098.08,  749.  ,\n",
       "       1699.9 , 2449.  , 1095.  , 2660.55,  628.96,  996.21, 1859.01,\n",
       "       2599.  ,  860.  , 1094.9 , 2646.  , 1912.01, 1199.  , 1377.62,\n",
       "       1927.84,  751.88, 1299.  ,  712.99, 1234.33,  699.  ,  408.  ,\n",
       "       1499.  , 1899.  , 3337.69, 1189.  , 2999.01, 1899.  , 1529.  ,\n",
       "       2175.  , 2659.  ,  439.  , 3129.  ,  950.  , 1375.3 ,  547.91,\n",
       "        911.84, 2599.  ,  529.  ,  675.24, 1304.79, 2711.4 , 1399.  ,\n",
       "       1491.33,  399.  ,  942.08, 1149.  , 1549.  , 1675.2 ,  663.69,\n",
       "        880.19,  498.73,  887.87,  959.  , 1749.  , 2899.99, 1589.01,\n",
       "       1949.01,  335.28,  442.99, 2150.38,  471.63, 3936.  , 1599.  ,\n",
       "        429.9 ,  349.  ,  620.  ,  769.58,  854.59, 3699.  , 2599.  ,\n",
       "        764.34, 1123.  ,  786.92, 1561.  , 1929.01,  860.79,  544.58,\n",
       "        549.99, 1162.  ,  649.  , 1944.  ,  399.  ,  556.22, 1093.69,\n",
       "       1720.54,  499.  , 1749.  , 1496.56,  729.  , 3199.  , 3499.  ,\n",
       "       1467.58,  976.18, 1183.68,  629.01, 1419.  , 1123.  , 2050.99,\n",
       "       3099.  , 1449.5 , 1869.  ,  599.  ,  422.  ,  739.01,  628.99,\n",
       "        884.99, 1848.46, 3499.01,  652.92, 2102.18, 1582.84,  509.  ,\n",
       "       3279.  , 1649.  , 2671.99, 1099.  ,  599.  ,  376.  , 2914.18,\n",
       "       2299.  , 1979.  ,  382.  , 3061.31,  759.01, 1549.  ,  757.53,\n",
       "       1074.06, 1135.  ,  614.99,  809.01,  924.98,  639.  ,  915.78,\n",
       "        474.86, 1430.18,  599.  , 1501.55,  399.  , 3599.  , 1009.  ,\n",
       "       1627.  ,  465.26,  291.69, 1699.01, 3777.49, 1929.01, 1888.94,\n",
       "       2502.66, 1799.  , 2999.  , 3099.98,  729.  , 2360.08,  461.48,\n",
       "        614.  , 2014.58,  684.65,  486.  ,  666.44,  589.  , 1190.  ,\n",
       "       1899.01,  553.58,  399.  , 1699.  , 2179.  ,  926.65,  609.04,\n",
       "        734.64, 1479.9 , 1020.84,  899.99, 2866.57, 1397.54, 1333.69,\n",
       "        549.  , 1479.9 ,  588.29,  417.99, 1423.48, 1931.64,  484.5 ,\n",
       "       1155.01, 1071.49,  816.21,  513.87, 1619.  ,  490.  , 1271.  ,\n",
       "        853.59, 1349.  ,  388.  ,  359.9 ,  799.  , 1039.  , 1799.  ,\n",
       "       1349.  , 1349.9 ,  649.  ,  371.  ,  469.9 , 3469.  , 1599.9 ,\n",
       "        201.05, 1410.65,  331.75, 2049.  , 1069.  ,  864.23,  379.  ,\n",
       "       1799.  , 1764.19,  470.86, 1199.  ,  608.94, 1599.98, 3249.  ,\n",
       "        571.39,  449.  , 1889.  ,  846.31, 1049.  ,  937.54,  394.  ,\n",
       "       1199.  , 1323.11, 1478.39, 1699.  , 1654.05, 1969.01,  784.69,\n",
       "       3012.09,  449.  ,  416.87, 3496.86,  539.01,  524.99,  727.49,\n",
       "        563.92,  424.  ,  905.84,  479.  ,  311.37,  499.  , 2499.98,\n",
       "        474.99,  565.01, 2079.  , 1020.24, 1399.  ,  789.84,  518.63,\n",
       "       2379.01, 3099.  ,  920.82,  398.1 , 2578.38, 1649.  ,  710.  ,\n",
       "        699.  , 1499.  , 1749.  , 1196.97, 1749.82,  432.26,  856.08,\n",
       "        264.14, 1474.28,  552.99, 2399.01, 1519.  , 1997.  , 1313.64,\n",
       "        267.49, 1902.  , 1219.  ,  494.35,  988.52, 1310.61,  779.  ,\n",
       "        994.  ,  552.33, 1180.29,  661.77,  749.  ])"
      ]
     },
     "execution_count": 24,
     "metadata": {},
     "output_type": "execute_result"
    }
   ],
   "source": [
    "y_test"
   ]
  },
  {
   "cell_type": "code",
   "execution_count": 25,
   "id": "1aeae032-81f2-433e-a8f0-a4b15c60bfd3",
   "metadata": {},
   "outputs": [],
   "source": [
    "del df_train[\"final_price\"]\n",
    "del df_val[\"final_price\"]\n",
    "del df_test[\"final_price\"]"
   ]
  },
  {
   "cell_type": "code",
   "execution_count": 26,
   "id": "85281088-df2b-4cbc-bd3c-14f2438b80b1",
   "metadata": {},
   "outputs": [
    {
     "data": {
      "text/html": [
       "<div>\n",
       "<style scoped>\n",
       "    .dataframe tbody tr th:only-of-type {\n",
       "        vertical-align: middle;\n",
       "    }\n",
       "\n",
       "    .dataframe tbody tr th {\n",
       "        vertical-align: top;\n",
       "    }\n",
       "\n",
       "    .dataframe thead th {\n",
       "        text-align: right;\n",
       "    }\n",
       "</style>\n",
       "<table border=\"1\" class=\"dataframe\">\n",
       "  <thead>\n",
       "    <tr style=\"text-align: right;\">\n",
       "      <th></th>\n",
       "      <th>ram</th>\n",
       "      <th>storage</th>\n",
       "      <th>screen</th>\n",
       "    </tr>\n",
       "  </thead>\n",
       "  <tbody>\n",
       "    <tr>\n",
       "      <th>570</th>\n",
       "      <td>8</td>\n",
       "      <td>500</td>\n",
       "      <td>15.6</td>\n",
       "    </tr>\n",
       "    <tr>\n",
       "      <th>1026</th>\n",
       "      <td>16</td>\n",
       "      <td>1000</td>\n",
       "      <td>14.2</td>\n",
       "    </tr>\n",
       "    <tr>\n",
       "      <th>295</th>\n",
       "      <td>16</td>\n",
       "      <td>512</td>\n",
       "      <td>14.2</td>\n",
       "    </tr>\n",
       "    <tr>\n",
       "      <th>1049</th>\n",
       "      <td>8</td>\n",
       "      <td>512</td>\n",
       "      <td>15.6</td>\n",
       "    </tr>\n",
       "    <tr>\n",
       "      <th>1103</th>\n",
       "      <td>16</td>\n",
       "      <td>512</td>\n",
       "      <td>15.6</td>\n",
       "    </tr>\n",
       "    <tr>\n",
       "      <th>...</th>\n",
       "      <td>...</td>\n",
       "      <td>...</td>\n",
       "      <td>...</td>\n",
       "    </tr>\n",
       "    <tr>\n",
       "      <th>1870</th>\n",
       "      <td>16</td>\n",
       "      <td>1000</td>\n",
       "      <td>15.6</td>\n",
       "    </tr>\n",
       "    <tr>\n",
       "      <th>98</th>\n",
       "      <td>16</td>\n",
       "      <td>512</td>\n",
       "      <td>15.6</td>\n",
       "    </tr>\n",
       "    <tr>\n",
       "      <th>513</th>\n",
       "      <td>16</td>\n",
       "      <td>1000</td>\n",
       "      <td>14.0</td>\n",
       "    </tr>\n",
       "    <tr>\n",
       "      <th>1121</th>\n",
       "      <td>32</td>\n",
       "      <td>1000</td>\n",
       "      <td>17.0</td>\n",
       "    </tr>\n",
       "    <tr>\n",
       "      <th>1663</th>\n",
       "      <td>8</td>\n",
       "      <td>256</td>\n",
       "      <td>14.0</td>\n",
       "    </tr>\n",
       "  </tbody>\n",
       "</table>\n",
       "<p>1296 rows × 3 columns</p>\n",
       "</div>"
      ],
      "text/plain": [
       "      ram  storage  screen\n",
       "570     8      500    15.6\n",
       "1026   16     1000    14.2\n",
       "295    16      512    14.2\n",
       "1049    8      512    15.6\n",
       "1103   16      512    15.6\n",
       "...   ...      ...     ...\n",
       "1870   16     1000    15.6\n",
       "98     16      512    15.6\n",
       "513    16     1000    14.0\n",
       "1121   32     1000    17.0\n",
       "1663    8      256    14.0\n",
       "\n",
       "[1296 rows x 3 columns]"
      ]
     },
     "execution_count": 26,
     "metadata": {},
     "output_type": "execute_result"
    }
   ],
   "source": [
    "df_train"
   ]
  },
  {
   "cell_type": "code",
   "execution_count": 27,
   "id": "5cebb151-20b4-4389-a245-d3c955eee698",
   "metadata": {},
   "outputs": [
    {
     "data": {
      "text/html": [
       "<div>\n",
       "<style scoped>\n",
       "    .dataframe tbody tr th:only-of-type {\n",
       "        vertical-align: middle;\n",
       "    }\n",
       "\n",
       "    .dataframe tbody tr th {\n",
       "        vertical-align: top;\n",
       "    }\n",
       "\n",
       "    .dataframe thead th {\n",
       "        text-align: right;\n",
       "    }\n",
       "</style>\n",
       "<table border=\"1\" class=\"dataframe\">\n",
       "  <thead>\n",
       "    <tr style=\"text-align: right;\">\n",
       "      <th></th>\n",
       "      <th>ram</th>\n",
       "      <th>storage</th>\n",
       "      <th>screen</th>\n",
       "    </tr>\n",
       "  </thead>\n",
       "  <tbody>\n",
       "    <tr>\n",
       "      <th>1113</th>\n",
       "      <td>16</td>\n",
       "      <td>512</td>\n",
       "      <td>13.3</td>\n",
       "    </tr>\n",
       "    <tr>\n",
       "      <th>1744</th>\n",
       "      <td>16</td>\n",
       "      <td>1000</td>\n",
       "      <td>14.2</td>\n",
       "    </tr>\n",
       "    <tr>\n",
       "      <th>582</th>\n",
       "      <td>16</td>\n",
       "      <td>512</td>\n",
       "      <td>15.6</td>\n",
       "    </tr>\n",
       "    <tr>\n",
       "      <th>96</th>\n",
       "      <td>8</td>\n",
       "      <td>512</td>\n",
       "      <td>15.6</td>\n",
       "    </tr>\n",
       "    <tr>\n",
       "      <th>449</th>\n",
       "      <td>8</td>\n",
       "      <td>512</td>\n",
       "      <td>15.6</td>\n",
       "    </tr>\n",
       "    <tr>\n",
       "      <th>...</th>\n",
       "      <td>...</td>\n",
       "      <td>...</td>\n",
       "      <td>...</td>\n",
       "    </tr>\n",
       "    <tr>\n",
       "      <th>1670</th>\n",
       "      <td>16</td>\n",
       "      <td>500</td>\n",
       "      <td>14.0</td>\n",
       "    </tr>\n",
       "    <tr>\n",
       "      <th>555</th>\n",
       "      <td>8</td>\n",
       "      <td>256</td>\n",
       "      <td>15.6</td>\n",
       "    </tr>\n",
       "    <tr>\n",
       "      <th>646</th>\n",
       "      <td>16</td>\n",
       "      <td>512</td>\n",
       "      <td>15.6</td>\n",
       "    </tr>\n",
       "    <tr>\n",
       "      <th>1575</th>\n",
       "      <td>8</td>\n",
       "      <td>512</td>\n",
       "      <td>15.6</td>\n",
       "    </tr>\n",
       "    <tr>\n",
       "      <th>94</th>\n",
       "      <td>16</td>\n",
       "      <td>512</td>\n",
       "      <td>15.6</td>\n",
       "    </tr>\n",
       "  </tbody>\n",
       "</table>\n",
       "<p>432 rows × 3 columns</p>\n",
       "</div>"
      ],
      "text/plain": [
       "      ram  storage  screen\n",
       "1113   16      512    13.3\n",
       "1744   16     1000    14.2\n",
       "582    16      512    15.6\n",
       "96      8      512    15.6\n",
       "449     8      512    15.6\n",
       "...   ...      ...     ...\n",
       "1670   16      500    14.0\n",
       "555     8      256    15.6\n",
       "646    16      512    15.6\n",
       "1575    8      512    15.6\n",
       "94     16      512    15.6\n",
       "\n",
       "[432 rows x 3 columns]"
      ]
     },
     "execution_count": 27,
     "metadata": {},
     "output_type": "execute_result"
    }
   ],
   "source": [
    "df_test"
   ]
  },
  {
   "cell_type": "code",
   "execution_count": 28,
   "id": "c583f0d3-7272-409c-8ebe-096e3eaf05fe",
   "metadata": {},
   "outputs": [
    {
     "data": {
      "text/html": [
       "<div>\n",
       "<style scoped>\n",
       "    .dataframe tbody tr th:only-of-type {\n",
       "        vertical-align: middle;\n",
       "    }\n",
       "\n",
       "    .dataframe tbody tr th {\n",
       "        vertical-align: top;\n",
       "    }\n",
       "\n",
       "    .dataframe thead th {\n",
       "        text-align: right;\n",
       "    }\n",
       "</style>\n",
       "<table border=\"1\" class=\"dataframe\">\n",
       "  <thead>\n",
       "    <tr style=\"text-align: right;\">\n",
       "      <th></th>\n",
       "      <th>ram</th>\n",
       "      <th>storage</th>\n",
       "      <th>screen</th>\n",
       "    </tr>\n",
       "  </thead>\n",
       "  <tbody>\n",
       "    <tr>\n",
       "      <th>1113</th>\n",
       "      <td>16</td>\n",
       "      <td>512</td>\n",
       "      <td>13.3</td>\n",
       "    </tr>\n",
       "    <tr>\n",
       "      <th>1744</th>\n",
       "      <td>16</td>\n",
       "      <td>1000</td>\n",
       "      <td>14.2</td>\n",
       "    </tr>\n",
       "    <tr>\n",
       "      <th>582</th>\n",
       "      <td>16</td>\n",
       "      <td>512</td>\n",
       "      <td>15.6</td>\n",
       "    </tr>\n",
       "    <tr>\n",
       "      <th>96</th>\n",
       "      <td>8</td>\n",
       "      <td>512</td>\n",
       "      <td>15.6</td>\n",
       "    </tr>\n",
       "    <tr>\n",
       "      <th>449</th>\n",
       "      <td>8</td>\n",
       "      <td>512</td>\n",
       "      <td>15.6</td>\n",
       "    </tr>\n",
       "    <tr>\n",
       "      <th>...</th>\n",
       "      <td>...</td>\n",
       "      <td>...</td>\n",
       "      <td>...</td>\n",
       "    </tr>\n",
       "    <tr>\n",
       "      <th>1670</th>\n",
       "      <td>16</td>\n",
       "      <td>500</td>\n",
       "      <td>14.0</td>\n",
       "    </tr>\n",
       "    <tr>\n",
       "      <th>555</th>\n",
       "      <td>8</td>\n",
       "      <td>256</td>\n",
       "      <td>15.6</td>\n",
       "    </tr>\n",
       "    <tr>\n",
       "      <th>646</th>\n",
       "      <td>16</td>\n",
       "      <td>512</td>\n",
       "      <td>15.6</td>\n",
       "    </tr>\n",
       "    <tr>\n",
       "      <th>1575</th>\n",
       "      <td>8</td>\n",
       "      <td>512</td>\n",
       "      <td>15.6</td>\n",
       "    </tr>\n",
       "    <tr>\n",
       "      <th>94</th>\n",
       "      <td>16</td>\n",
       "      <td>512</td>\n",
       "      <td>15.6</td>\n",
       "    </tr>\n",
       "  </tbody>\n",
       "</table>\n",
       "<p>432 rows × 3 columns</p>\n",
       "</div>"
      ],
      "text/plain": [
       "      ram  storage  screen\n",
       "1113   16      512    13.3\n",
       "1744   16     1000    14.2\n",
       "582    16      512    15.6\n",
       "96      8      512    15.6\n",
       "449     8      512    15.6\n",
       "...   ...      ...     ...\n",
       "1670   16      500    14.0\n",
       "555     8      256    15.6\n",
       "646    16      512    15.6\n",
       "1575    8      512    15.6\n",
       "94     16      512    15.6\n",
       "\n",
       "[432 rows x 3 columns]"
      ]
     },
     "execution_count": 28,
     "metadata": {},
     "output_type": "execute_result"
    }
   ],
   "source": [
    "df_val"
   ]
  },
  {
   "cell_type": "code",
   "execution_count": 29,
   "id": "c7d9f10a-e52e-4cd8-a305-8efafbcf00f8",
   "metadata": {},
   "outputs": [
    {
     "data": {
      "text/plain": [
       "ram        0\n",
       "storage    0\n",
       "screen     1\n",
       "dtype: int64"
      ]
     },
     "execution_count": 29,
     "metadata": {},
     "output_type": "execute_result"
    }
   ],
   "source": [
    "df_train.isnull().sum()"
   ]
  },
  {
   "cell_type": "code",
   "execution_count": 30,
   "id": "26d8a740-f689-42fb-9e3e-3f14e6000939",
   "metadata": {},
   "outputs": [
    {
     "data": {
      "text/html": [
       "<div>\n",
       "<style scoped>\n",
       "    .dataframe tbody tr th:only-of-type {\n",
       "        vertical-align: middle;\n",
       "    }\n",
       "\n",
       "    .dataframe tbody tr th {\n",
       "        vertical-align: top;\n",
       "    }\n",
       "\n",
       "    .dataframe thead th {\n",
       "        text-align: right;\n",
       "    }\n",
       "</style>\n",
       "<table border=\"1\" class=\"dataframe\">\n",
       "  <thead>\n",
       "    <tr style=\"text-align: right;\">\n",
       "      <th></th>\n",
       "      <th>ram</th>\n",
       "      <th>storage</th>\n",
       "      <th>screen</th>\n",
       "    </tr>\n",
       "  </thead>\n",
       "  <tbody>\n",
       "    <tr>\n",
       "      <th>570</th>\n",
       "      <td>8</td>\n",
       "      <td>500</td>\n",
       "      <td>15.6</td>\n",
       "    </tr>\n",
       "    <tr>\n",
       "      <th>1026</th>\n",
       "      <td>16</td>\n",
       "      <td>1000</td>\n",
       "      <td>14.2</td>\n",
       "    </tr>\n",
       "    <tr>\n",
       "      <th>295</th>\n",
       "      <td>16</td>\n",
       "      <td>512</td>\n",
       "      <td>14.2</td>\n",
       "    </tr>\n",
       "    <tr>\n",
       "      <th>1049</th>\n",
       "      <td>8</td>\n",
       "      <td>512</td>\n",
       "      <td>15.6</td>\n",
       "    </tr>\n",
       "    <tr>\n",
       "      <th>1103</th>\n",
       "      <td>16</td>\n",
       "      <td>512</td>\n",
       "      <td>15.6</td>\n",
       "    </tr>\n",
       "    <tr>\n",
       "      <th>...</th>\n",
       "      <td>...</td>\n",
       "      <td>...</td>\n",
       "      <td>...</td>\n",
       "    </tr>\n",
       "    <tr>\n",
       "      <th>1870</th>\n",
       "      <td>16</td>\n",
       "      <td>1000</td>\n",
       "      <td>15.6</td>\n",
       "    </tr>\n",
       "    <tr>\n",
       "      <th>98</th>\n",
       "      <td>16</td>\n",
       "      <td>512</td>\n",
       "      <td>15.6</td>\n",
       "    </tr>\n",
       "    <tr>\n",
       "      <th>513</th>\n",
       "      <td>16</td>\n",
       "      <td>1000</td>\n",
       "      <td>14.0</td>\n",
       "    </tr>\n",
       "    <tr>\n",
       "      <th>1121</th>\n",
       "      <td>32</td>\n",
       "      <td>1000</td>\n",
       "      <td>17.0</td>\n",
       "    </tr>\n",
       "    <tr>\n",
       "      <th>1663</th>\n",
       "      <td>8</td>\n",
       "      <td>256</td>\n",
       "      <td>14.0</td>\n",
       "    </tr>\n",
       "  </tbody>\n",
       "</table>\n",
       "<p>1296 rows × 3 columns</p>\n",
       "</div>"
      ],
      "text/plain": [
       "      ram  storage  screen\n",
       "570     8      500    15.6\n",
       "1026   16     1000    14.2\n",
       "295    16      512    14.2\n",
       "1049    8      512    15.6\n",
       "1103   16      512    15.6\n",
       "...   ...      ...     ...\n",
       "1870   16     1000    15.6\n",
       "98     16      512    15.6\n",
       "513    16     1000    14.0\n",
       "1121   32     1000    17.0\n",
       "1663    8      256    14.0\n",
       "\n",
       "[1296 rows x 3 columns]"
      ]
     },
     "execution_count": 30,
     "metadata": {},
     "output_type": "execute_result"
    }
   ],
   "source": [
    "df_train1 = df_train.copy()\n",
    "df_train1"
   ]
  },
  {
   "cell_type": "code",
   "execution_count": 31,
   "id": "8dd7db70-38b8-45c8-babd-087d45f8aa96",
   "metadata": {},
   "outputs": [
    {
     "data": {
      "text/plain": [
       "Index(['ram', 'storage', 'screen'], dtype='object')"
      ]
     },
     "execution_count": 31,
     "metadata": {},
     "output_type": "execute_result"
    }
   ],
   "source": [
    "df_train.columns"
   ]
  },
  {
   "cell_type": "code",
   "execution_count": 32,
   "id": "6311f172-cc88-4dab-8990-6605e4bc4e60",
   "metadata": {},
   "outputs": [
    {
     "data": {
      "text/html": [
       "<div>\n",
       "<style scoped>\n",
       "    .dataframe tbody tr th:only-of-type {\n",
       "        vertical-align: middle;\n",
       "    }\n",
       "\n",
       "    .dataframe tbody tr th {\n",
       "        vertical-align: top;\n",
       "    }\n",
       "\n",
       "    .dataframe thead th {\n",
       "        text-align: right;\n",
       "    }\n",
       "</style>\n",
       "<table border=\"1\" class=\"dataframe\">\n",
       "  <thead>\n",
       "    <tr style=\"text-align: right;\">\n",
       "      <th></th>\n",
       "      <th>ram</th>\n",
       "      <th>storage</th>\n",
       "      <th>screen</th>\n",
       "    </tr>\n",
       "  </thead>\n",
       "  <tbody>\n",
       "    <tr>\n",
       "      <th>570</th>\n",
       "      <td>8</td>\n",
       "      <td>500</td>\n",
       "      <td>15.6</td>\n",
       "    </tr>\n",
       "    <tr>\n",
       "      <th>1026</th>\n",
       "      <td>16</td>\n",
       "      <td>1000</td>\n",
       "      <td>14.2</td>\n",
       "    </tr>\n",
       "    <tr>\n",
       "      <th>295</th>\n",
       "      <td>16</td>\n",
       "      <td>512</td>\n",
       "      <td>14.2</td>\n",
       "    </tr>\n",
       "    <tr>\n",
       "      <th>1049</th>\n",
       "      <td>8</td>\n",
       "      <td>512</td>\n",
       "      <td>15.6</td>\n",
       "    </tr>\n",
       "    <tr>\n",
       "      <th>1103</th>\n",
       "      <td>16</td>\n",
       "      <td>512</td>\n",
       "      <td>15.6</td>\n",
       "    </tr>\n",
       "    <tr>\n",
       "      <th>...</th>\n",
       "      <td>...</td>\n",
       "      <td>...</td>\n",
       "      <td>...</td>\n",
       "    </tr>\n",
       "    <tr>\n",
       "      <th>1870</th>\n",
       "      <td>16</td>\n",
       "      <td>1000</td>\n",
       "      <td>15.6</td>\n",
       "    </tr>\n",
       "    <tr>\n",
       "      <th>98</th>\n",
       "      <td>16</td>\n",
       "      <td>512</td>\n",
       "      <td>15.6</td>\n",
       "    </tr>\n",
       "    <tr>\n",
       "      <th>513</th>\n",
       "      <td>16</td>\n",
       "      <td>1000</td>\n",
       "      <td>14.0</td>\n",
       "    </tr>\n",
       "    <tr>\n",
       "      <th>1121</th>\n",
       "      <td>32</td>\n",
       "      <td>1000</td>\n",
       "      <td>17.0</td>\n",
       "    </tr>\n",
       "    <tr>\n",
       "      <th>1663</th>\n",
       "      <td>8</td>\n",
       "      <td>256</td>\n",
       "      <td>14.0</td>\n",
       "    </tr>\n",
       "  </tbody>\n",
       "</table>\n",
       "<p>1296 rows × 3 columns</p>\n",
       "</div>"
      ],
      "text/plain": [
       "      ram  storage  screen\n",
       "570     8      500    15.6\n",
       "1026   16     1000    14.2\n",
       "295    16      512    14.2\n",
       "1049    8      512    15.6\n",
       "1103   16      512    15.6\n",
       "...   ...      ...     ...\n",
       "1870   16     1000    15.6\n",
       "98     16      512    15.6\n",
       "513    16     1000    14.0\n",
       "1121   32     1000    17.0\n",
       "1663    8      256    14.0\n",
       "\n",
       "[1296 rows x 3 columns]"
      ]
     },
     "execution_count": 32,
     "metadata": {},
     "output_type": "execute_result"
    }
   ],
   "source": [
    "df_train1"
   ]
  },
  {
   "cell_type": "code",
   "execution_count": 33,
   "id": "762a6e5e-adcd-41dd-bf64-902336117b74",
   "metadata": {},
   "outputs": [
    {
     "data": {
      "text/plain": [
       "Index(['ram', 'storage', 'screen'], dtype='object')"
      ]
     },
     "execution_count": 33,
     "metadata": {},
     "output_type": "execute_result"
    }
   ],
   "source": [
    "df_train1.columns"
   ]
  },
  {
   "cell_type": "code",
   "execution_count": 34,
   "id": "24e632c6-3853-45d3-870f-dc63202cdac6",
   "metadata": {},
   "outputs": [
    {
     "data": {
      "text/plain": [
       "ram        0\n",
       "storage    0\n",
       "screen     1\n",
       "dtype: int64"
      ]
     },
     "execution_count": 34,
     "metadata": {},
     "output_type": "execute_result"
    }
   ],
   "source": [
    "df_train1.isnull().sum()"
   ]
  },
  {
   "cell_type": "code",
   "execution_count": 35,
   "id": "69beaef5-3b3e-428c-9edb-6b8f484bdf92",
   "metadata": {},
   "outputs": [
    {
     "data": {
      "text/plain": [
       "array([[   8. ,  500. ,   15.6],\n",
       "       [  16. , 1000. ,   14.2],\n",
       "       [  16. ,  512. ,   14.2],\n",
       "       ...,\n",
       "       [  16. , 1000. ,   14. ],\n",
       "       [  32. , 1000. ,   17. ],\n",
       "       [   8. ,  256. ,   14. ]])"
      ]
     },
     "execution_count": 35,
     "metadata": {},
     "output_type": "execute_result"
    }
   ],
   "source": [
    "df_train1.fillna(0).values"
   ]
  },
  {
   "cell_type": "code",
   "execution_count": 36,
   "id": "6efa4f65-8153-44eb-89eb-22ea34cc7abe",
   "metadata": {},
   "outputs": [],
   "source": [
    "x_train = df_train1.fillna(0).values"
   ]
  },
  {
   "cell_type": "code",
   "execution_count": 37,
   "id": "e0ced06a-9a85-4a70-8d3f-49dac32c4d3d",
   "metadata": {},
   "outputs": [],
   "source": [
    "def train_linear_regression(x,y):\n",
    "    ones = np.ones(x.shape[0])\n",
    "    x = np.column_stack([ones, x])\n",
    "\n",
    "    xtx = x.T.dot(x)\n",
    "    xtx_inv = np.linalg.inv(xtx)\n",
    "    w_full = xtx_inv.dot(x.T).dot(y)\n",
    "\n",
    "    return w_full[0], w_full[1:]"
   ]
  },
  {
   "cell_type": "code",
   "execution_count": 38,
   "id": "b1ed2d66-da06-4b51-90fe-faf7c53bef06",
   "metadata": {},
   "outputs": [],
   "source": [
    "def rmse(y, y_pred):\n",
    "    error = (y - y_pred)**2\n",
    "    mse = error.mean()\n",
    "    return np.sqrt(mse)\n",
    "    "
   ]
  },
  {
   "cell_type": "code",
   "execution_count": 39,
   "id": "e3f882c9-5b68-4cb0-a710-761bfe89020b",
   "metadata": {},
   "outputs": [
    {
     "data": {
      "text/plain": [
       "array([ 887.94729945, 1745.68739225, 1311.75883051, ..., 1754.09012368,\n",
       "       2336.69322539,  738.20487001])"
      ]
     },
     "execution_count": 39,
     "metadata": {},
     "output_type": "execute_result"
    }
   ],
   "source": [
    "w0, w = train_linear_regression(x_train, y_train)\n",
    "\n",
    "x_train = df_train.fillna(0).values\n",
    "y_pred =  w0 + x_train.dot(w)\n",
    "y_pred"
   ]
  },
  {
   "cell_type": "code",
   "execution_count": 40,
   "id": "697e5812-b63b-4d54-88d2-525a50f1ac4a",
   "metadata": {},
   "outputs": [
    {
     "data": {
      "image/png": "[encoded data removed]",
      "text/plain": [
       "<Figure size 640x480 with 1 Axes>"
      ]
     },
     "metadata": {},
     "output_type": "display_data"
    }
   ],
   "source": [
    "sns.histplot(y_train, bins = 50, alpha = 0.2, color = \"green\",  label = \"target\")\n",
    "sns.histplot(y_pred, bins = 50, alpha = 0.5, color = \"yellow\", label = \"prediction\")\n",
    "\n",
    "plt.legend()\n",
    "plt.show()"
   ]
  },
  {
   "cell_type": "code",
   "execution_count": 41,
   "id": "af7a856b-2290-47b2-94fe-dbc80a0bfda0",
   "metadata": {},
   "outputs": [
    {
     "data": {
      "image/png": "[encoded data removed]",
      "text/plain": [
       "<Figure size 640x480 with 1 Axes>"
      ]
     },
     "metadata": {},
     "output_type": "display_data"
    }
   ],
   "source": [
    "sns.histplot(y_pred, bins = 50, alpha = 0.5, color = \"yellow\", label = \"prediction\")\n",
    "sns.histplot(y_train, bins = 50, alpha = 0.5, color = \"green\", label = \"target\")\n",
    "plt.legend()\n",
    "plt.show()"
   ]
  },
  {
   "cell_type": "code",
   "execution_count": 42,
   "id": "d6a263d1-40c0-43f5-a4bf-7469b1d2ae54",
   "metadata": {},
   "outputs": [
    {
     "data": {
      "text/plain": [
       "np.float64(608.44)"
      ]
     },
     "execution_count": 42,
     "metadata": {},
     "output_type": "execute_result"
    }
   ],
   "source": [
    "score = round(rmse(y_train, y_pred),2)\n",
    "score"
   ]
  },
  {
   "cell_type": "code",
   "execution_count": 43,
   "id": "ecc96ead-d331-41c6-ae81-791b6ac441d9",
   "metadata": {},
   "outputs": [],
   "source": [
    "df_train_1 = df_train.copy()"
   ]
  },
  {
   "cell_type": "code",
   "execution_count": 44,
   "id": "bd4ba92e-beb9-4b69-83ba-e689ba3f3fa5",
   "metadata": {},
   "outputs": [
    {
     "data": {
      "text/html": [
       "<div>\n",
       "<style scoped>\n",
       "    .dataframe tbody tr th:only-of-type {\n",
       "        vertical-align: middle;\n",
       "    }\n",
       "\n",
       "    .dataframe tbody tr th {\n",
       "        vertical-align: top;\n",
       "    }\n",
       "\n",
       "    .dataframe thead th {\n",
       "        text-align: right;\n",
       "    }\n",
       "</style>\n",
       "<table border=\"1\" class=\"dataframe\">\n",
       "  <thead>\n",
       "    <tr style=\"text-align: right;\">\n",
       "      <th></th>\n",
       "      <th>ram</th>\n",
       "      <th>storage</th>\n",
       "      <th>screen</th>\n",
       "    </tr>\n",
       "  </thead>\n",
       "  <tbody>\n",
       "    <tr>\n",
       "      <th>570</th>\n",
       "      <td>8</td>\n",
       "      <td>500</td>\n",
       "      <td>15.6</td>\n",
       "    </tr>\n",
       "    <tr>\n",
       "      <th>1026</th>\n",
       "      <td>16</td>\n",
       "      <td>1000</td>\n",
       "      <td>14.2</td>\n",
       "    </tr>\n",
       "    <tr>\n",
       "      <th>295</th>\n",
       "      <td>16</td>\n",
       "      <td>512</td>\n",
       "      <td>14.2</td>\n",
       "    </tr>\n",
       "    <tr>\n",
       "      <th>1049</th>\n",
       "      <td>8</td>\n",
       "      <td>512</td>\n",
       "      <td>15.6</td>\n",
       "    </tr>\n",
       "    <tr>\n",
       "      <th>1103</th>\n",
       "      <td>16</td>\n",
       "      <td>512</td>\n",
       "      <td>15.6</td>\n",
       "    </tr>\n",
       "    <tr>\n",
       "      <th>...</th>\n",
       "      <td>...</td>\n",
       "      <td>...</td>\n",
       "      <td>...</td>\n",
       "    </tr>\n",
       "    <tr>\n",
       "      <th>1870</th>\n",
       "      <td>16</td>\n",
       "      <td>1000</td>\n",
       "      <td>15.6</td>\n",
       "    </tr>\n",
       "    <tr>\n",
       "      <th>98</th>\n",
       "      <td>16</td>\n",
       "      <td>512</td>\n",
       "      <td>15.6</td>\n",
       "    </tr>\n",
       "    <tr>\n",
       "      <th>513</th>\n",
       "      <td>16</td>\n",
       "      <td>1000</td>\n",
       "      <td>14.0</td>\n",
       "    </tr>\n",
       "    <tr>\n",
       "      <th>1121</th>\n",
       "      <td>32</td>\n",
       "      <td>1000</td>\n",
       "      <td>17.0</td>\n",
       "    </tr>\n",
       "    <tr>\n",
       "      <th>1663</th>\n",
       "      <td>8</td>\n",
       "      <td>256</td>\n",
       "      <td>14.0</td>\n",
       "    </tr>\n",
       "  </tbody>\n",
       "</table>\n",
       "<p>1296 rows × 3 columns</p>\n",
       "</div>"
      ],
      "text/plain": [
       "      ram  storage  screen\n",
       "570     8      500    15.6\n",
       "1026   16     1000    14.2\n",
       "295    16      512    14.2\n",
       "1049    8      512    15.6\n",
       "1103   16      512    15.6\n",
       "...   ...      ...     ...\n",
       "1870   16     1000    15.6\n",
       "98     16      512    15.6\n",
       "513    16     1000    14.0\n",
       "1121   32     1000    17.0\n",
       "1663    8      256    14.0\n",
       "\n",
       "[1296 rows x 3 columns]"
      ]
     },
     "execution_count": 44,
     "metadata": {},
     "output_type": "execute_result"
    }
   ],
   "source": [
    "df_train_1"
   ]
  },
  {
   "cell_type": "code",
   "execution_count": 45,
   "id": "bccbc5c0-0bd9-4706-a205-eb85c0cdad5a",
   "metadata": {},
   "outputs": [
    {
     "data": {
      "text/html": [
       "<div>\n",
       "<style scoped>\n",
       "    .dataframe tbody tr th:only-of-type {\n",
       "        vertical-align: middle;\n",
       "    }\n",
       "\n",
       "    .dataframe tbody tr th {\n",
       "        vertical-align: top;\n",
       "    }\n",
       "\n",
       "    .dataframe thead th {\n",
       "        text-align: right;\n",
       "    }\n",
       "</style>\n",
       "<table border=\"1\" class=\"dataframe\">\n",
       "  <thead>\n",
       "    <tr style=\"text-align: right;\">\n",
       "      <th></th>\n",
       "      <th>ram</th>\n",
       "      <th>storage</th>\n",
       "      <th>screen</th>\n",
       "    </tr>\n",
       "  </thead>\n",
       "  <tbody>\n",
       "    <tr>\n",
       "      <th>570</th>\n",
       "      <td>8</td>\n",
       "      <td>500</td>\n",
       "      <td>15.6</td>\n",
       "    </tr>\n",
       "    <tr>\n",
       "      <th>1026</th>\n",
       "      <td>16</td>\n",
       "      <td>1000</td>\n",
       "      <td>14.2</td>\n",
       "    </tr>\n",
       "    <tr>\n",
       "      <th>295</th>\n",
       "      <td>16</td>\n",
       "      <td>512</td>\n",
       "      <td>14.2</td>\n",
       "    </tr>\n",
       "    <tr>\n",
       "      <th>1049</th>\n",
       "      <td>8</td>\n",
       "      <td>512</td>\n",
       "      <td>15.6</td>\n",
       "    </tr>\n",
       "    <tr>\n",
       "      <th>1103</th>\n",
       "      <td>16</td>\n",
       "      <td>512</td>\n",
       "      <td>15.6</td>\n",
       "    </tr>\n",
       "    <tr>\n",
       "      <th>...</th>\n",
       "      <td>...</td>\n",
       "      <td>...</td>\n",
       "      <td>...</td>\n",
       "    </tr>\n",
       "    <tr>\n",
       "      <th>1870</th>\n",
       "      <td>16</td>\n",
       "      <td>1000</td>\n",
       "      <td>15.6</td>\n",
       "    </tr>\n",
       "    <tr>\n",
       "      <th>98</th>\n",
       "      <td>16</td>\n",
       "      <td>512</td>\n",
       "      <td>15.6</td>\n",
       "    </tr>\n",
       "    <tr>\n",
       "      <th>513</th>\n",
       "      <td>16</td>\n",
       "      <td>1000</td>\n",
       "      <td>14.0</td>\n",
       "    </tr>\n",
       "    <tr>\n",
       "      <th>1121</th>\n",
       "      <td>32</td>\n",
       "      <td>1000</td>\n",
       "      <td>17.0</td>\n",
       "    </tr>\n",
       "    <tr>\n",
       "      <th>1663</th>\n",
       "      <td>8</td>\n",
       "      <td>256</td>\n",
       "      <td>14.0</td>\n",
       "    </tr>\n",
       "  </tbody>\n",
       "</table>\n",
       "<p>1296 rows × 3 columns</p>\n",
       "</div>"
      ],
      "text/plain": [
       "      ram  storage  screen\n",
       "570     8      500    15.6\n",
       "1026   16     1000    14.2\n",
       "295    16      512    14.2\n",
       "1049    8      512    15.6\n",
       "1103   16      512    15.6\n",
       "...   ...      ...     ...\n",
       "1870   16     1000    15.6\n",
       "98     16      512    15.6\n",
       "513    16     1000    14.0\n",
       "1121   32     1000    17.0\n",
       "1663    8      256    14.0\n",
       "\n",
       "[1296 rows x 3 columns]"
      ]
     },
     "execution_count": 45,
     "metadata": {},
     "output_type": "execute_result"
    }
   ],
   "source": [
    "df_train_1"
   ]
  },
  {
   "cell_type": "code",
   "execution_count": 46,
   "id": "9dafd651-701e-40a0-a1ae-e1102a3bbdd2",
   "metadata": {},
   "outputs": [
    {
     "data": {
      "text/plain": [
       "Index(['ram', 'storage', 'screen'], dtype='object')"
      ]
     },
     "execution_count": 46,
     "metadata": {},
     "output_type": "execute_result"
    }
   ],
   "source": [
    "df_train_1.columns"
   ]
  },
  {
   "cell_type": "code",
   "execution_count": 47,
   "id": "72706147-f652-4847-a542-86160c10459e",
   "metadata": {},
   "outputs": [
    {
     "data": {
      "text/plain": [
       "ram        0\n",
       "storage    0\n",
       "screen     1\n",
       "dtype: int64"
      ]
     },
     "execution_count": 47,
     "metadata": {},
     "output_type": "execute_result"
    }
   ],
   "source": [
    "df_train_1.isnull().sum()"
   ]
  },
  {
   "cell_type": "code",
   "execution_count": 48,
   "id": "865dc2a2-5295-4577-9a95-2e4dbb17f98e",
   "metadata": {},
   "outputs": [
    {
     "data": {
      "text/plain": [
       "ram        0\n",
       "storage    0\n",
       "screen     0\n",
       "dtype: int64"
      ]
     },
     "execution_count": 48,
     "metadata": {},
     "output_type": "execute_result"
    }
   ],
   "source": [
    "df_train_1.fillna(0).isnull().sum()"
   ]
  },
  {
   "cell_type": "code",
   "execution_count": 49,
   "id": "e39cbe4b-0f0f-4e27-b63e-98ac8b25f2d2",
   "metadata": {},
   "outputs": [
    {
     "data": {
      "text/plain": [
       "array([[   8. ,  500. ,   15.6],\n",
       "       [  16. , 1000. ,   14.2],\n",
       "       [  16. ,  512. ,   14.2],\n",
       "       ...,\n",
       "       [  16. , 1000. ,   14. ],\n",
       "       [  32. , 1000. ,   17. ],\n",
       "       [   8. ,  256. ,   14. ]])"
      ]
     },
     "execution_count": 49,
     "metadata": {},
     "output_type": "execute_result"
    }
   ],
   "source": [
    "x_train = df_train_1.fillna(0).values\n",
    "x_train"
   ]
  },
  {
   "cell_type": "code",
   "execution_count": 50,
   "id": "21c6118c-661c-40db-b545-571d411e56bf",
   "metadata": {},
   "outputs": [],
   "source": [
    "def train_linear_regression(x,y):\n",
    "    ones = np.ones(x.shape[0])\n",
    "    x = np.column_stack([ones,x])\n",
    "\n",
    "    xtx = x.T.dot(x)\n",
    "    xtx_inv = np.linalg.inv(xtx)\n",
    "    w_full = xtx_inv.dot(x.T).dot(y)\n",
    "\n",
    "    return w_full[0], w_full[1:]"
   ]
  },
  {
   "cell_type": "code",
   "execution_count": 51,
   "id": "5a02d8fc-2973-404a-91d5-ea054d399cf5",
   "metadata": {},
   "outputs": [],
   "source": [
    "def rmse(y, y_pred):\n",
    "    error = (y - y_pred)**2\n",
    "    mse = error.mean()\n",
    "    return np.sqrt(mse)"
   ]
  },
  {
   "cell_type": "code",
   "execution_count": 52,
   "id": "db1c332e-791c-4e84-b551-2036e895530f",
   "metadata": {},
   "outputs": [
    {
     "data": {
      "text/plain": [
       "array([[   8. ,  500. ,   15.6],\n",
       "       [  16. , 1000. ,   14.2],\n",
       "       [  16. ,  512. ,   14.2],\n",
       "       ...,\n",
       "       [  16. , 1000. ,   14. ],\n",
       "       [  32. , 1000. ,   17. ],\n",
       "       [   8. ,  256. ,   14. ]])"
      ]
     },
     "execution_count": 52,
     "metadata": {},
     "output_type": "execute_result"
    }
   ],
   "source": [
    "x_train "
   ]
  },
  {
   "cell_type": "code",
   "execution_count": 53,
   "id": "4ea98b1a-bafb-4d49-b3c3-548f32cfb821",
   "metadata": {},
   "outputs": [],
   "source": [
    "w0, w = train_linear_regression(x_train, y_train)"
   ]
  },
  {
   "cell_type": "code",
   "execution_count": 54,
   "id": "6cd7c2c7-4905-4d34-a7df-5dbd233398aa",
   "metadata": {},
   "outputs": [
    {
     "data": {
      "text/plain": [
       "np.float64(744.4393782127572)"
      ]
     },
     "execution_count": 54,
     "metadata": {},
     "output_type": "execute_result"
    }
   ],
   "source": [
    "w0"
   ]
  },
  {
   "cell_type": "code",
   "execution_count": 55,
   "id": "b3e2fde6-fb54-4e51-b814-1bf41dd1fd57",
   "metadata": {},
   "outputs": [
    {
     "data": {
      "text/plain": [
       "array([ 44.29025457,   0.88919787, -42.01365715])"
      ]
     },
     "execution_count": 55,
     "metadata": {},
     "output_type": "execute_result"
    }
   ],
   "source": [
    "w"
   ]
  },
  {
   "cell_type": "code",
   "execution_count": 56,
   "id": "938ab160-a9d9-48b3-adf3-7393969ae9d5",
   "metadata": {},
   "outputs": [
    {
     "data": {
      "text/plain": [
       "array([ 887.94729945, 1745.68739225, 1311.75883051, ..., 1754.09012368,\n",
       "       2336.69322539,  738.20487001])"
      ]
     },
     "execution_count": 56,
     "metadata": {},
     "output_type": "execute_result"
    }
   ],
   "source": [
    "y_pred = w0 + x_train.dot(w)\n",
    "y_pred"
   ]
  },
  {
   "cell_type": "code",
   "execution_count": 57,
   "id": "8cb2b49b-dfb7-443d-b86c-3974ff328f6a",
   "metadata": {},
   "outputs": [
    {
     "data": {
      "image/png": "[encoded data removed]",
      "text/plain": [
       "<Figure size 640x480 with 1 Axes>"
      ]
     },
     "metadata": {},
     "output_type": "display_data"
    }
   ],
   "source": [
    "sns.histplot(y_pred, bins = 50, color = \"purple\", alpha = 0.5, label = \"Prediction\")\n",
    "sns.histplot(y_train, bins = 50, color = \"green\", alpha = 0.7, label = \"target\")\n",
    "\n",
    "plt.legend()\n",
    "plt.show()"
   ]
  },
  {
   "cell_type": "code",
   "execution_count": 58,
   "id": "3af19450-f015-47a6-9e68-1041af3cc991",
   "metadata": {},
   "outputs": [
    {
     "data": {
      "text/plain": [
       "np.float64(608.44)"
      ]
     },
     "execution_count": 58,
     "metadata": {},
     "output_type": "execute_result"
    }
   ],
   "source": [
    "score2 = round(rmse(y_train, y_pred),2)\n",
    "score2"
   ]
  },
  {
   "cell_type": "code",
   "execution_count": 59,
   "id": "281d19b7-dc80-4441-8ea2-507cdb5c45c5",
   "metadata": {},
   "outputs": [],
   "source": [
    "def train_linear_regression_reg(x, y , r = 0.01):\n",
    "    ones = np.ones(x.shape[0])\n",
    "    x = np.column_stack([ones,x])\n",
    "\n",
    "    xtx = x.T.dot(x)\n",
    "    xtx = xtx + 0.01 * np.eye(xtx.shape[0])\n",
    "\n",
    "    xtx_inv = np.linalg.inv(xtx)\n",
    "    w_full = xtx_inv.dot(x.T).dot(y)\n",
    "    return w_full[0], w_full[1:]"
   ]
  },
  {
   "cell_type": "code",
   "execution_count": 60,
   "id": "3862030b-d6e1-44b2-b3c6-20935d1d426a",
   "metadata": {},
   "outputs": [
    {
     "name": "stdout",
     "output_type": "stream",
     "text": [
      "0 525.77\n",
      "0.01 525.77\n",
      "0.1 525.77\n",
      "1 525.77\n",
      "5 525.77\n",
      "10 525.77\n",
      "100 525.77\n"
     ]
    }
   ],
   "source": [
    "for r in [0, 0.01, 0.1, 1, 5, 10, 100]:\n",
    "    x_train = df_train.fillna(0).values\n",
    "    w0, w = train_linear_regression_reg(x_train, y_train, r=r)\n",
    "    \n",
    "    x_val = df_val.fillna(0).values\n",
    "    y_pred = w0 + x_val.dot(w)\n",
    "    score = rmse(y_val, y_pred)\n",
    "    print(r, round(score,2))"
   ]
  },
  {
   "cell_type": "code",
   "execution_count": 61,
   "id": "58d24bf6-3066-48dc-9a3d-0da95b5bd932",
   "metadata": {},
   "outputs": [
    {
     "name": "stdout",
     "output_type": "stream",
     "text": [
      "0 596.13\n",
      "1 564.01\n",
      "2 636.41\n",
      "3 589.63\n",
      "4 596.74\n",
      "5 567.91\n",
      "6 568.05\n",
      "7 637.45\n",
      "8 545.51\n",
      "9 583.3\n",
      "the standard deviation of the scores are :28.523\n"
     ]
    }
   ],
   "source": [
    "seeds = [0, 1, 2, 3, 4, 5, 6, 7, 8, 9]\n",
    "scores = []\n",
    "for seed in seeds:\n",
    "    idx = np.arange(n)\n",
    "    np.random.shuffle(idx)\n",
    "    np.random.seed(seed)\n",
    "\n",
    "    df_train = df_price.iloc[idx[:n_train]]\n",
    "    df_val = df_price.iloc[idx[n_train:n_train+n_val]]\n",
    "    df_test = df_price.iloc[idx[n_train:n_train+n_val:]]\n",
    "\n",
    "\n",
    "    df_train = df_train.reset_index(drop=True)\n",
    "    df_val = df_val.reset_index(drop=True)\n",
    "    df_test = df_test.reset_index(drop=True)\n",
    "\n",
    "    y_train = df_train.final_price\n",
    "    y_val = df_val.final_price\n",
    "    y_test = df_test.final_price\n",
    "\n",
    "    del df_train[\"final_price\"]\n",
    "    del df_val[\"final_price\"]\n",
    "    del df_test[\"final_price\"]\n",
    "\n",
    "    x_val = df_val.fillna(0).values\n",
    "    y_pred = w0 + x_val.dot(w)\n",
    "    score = rmse(y_val, y_pred)\n",
    "    scores.append(score)\n",
    "    print(seed,round(score,2))\n",
    "\n",
    "std_scores = np.std(scores)\n",
    "print(f\"the standard deviation of the scores are :{round(std_scores, 3)}\")\n",
    "    \n",
    "\n",
    "\n",
    "    \n",
    "    "
   ]
  },
  {
   "cell_type": "code",
   "execution_count": 62,
   "id": "dcb0f9b5-4d57-4cae-8e12-53797f094e50",
   "metadata": {},
   "outputs": [],
   "source": [
    "idx = np.arange(n)\n",
    "np.random.shuffle(idx)\n",
    "np.random.seed(9)\n",
    "\n",
    "df_train = df_price.iloc[idx[:n_train]]\n",
    "df_val  =  df_price.iloc[idx[n_train:n_train+n_val]]\n",
    "df_test = df_price.iloc[idx[n_train:n_train+n_val:]]\n",
    "\n",
    "\n",
    "\n",
    "\n"
   ]
  },
  {
   "cell_type": "code",
   "execution_count": 63,
   "id": "89eb6486-5443-4c15-8366-a61555c95c27",
   "metadata": {},
   "outputs": [],
   "source": [
    "df_base = df_price[base]\n",
    "df_train = df_base.iloc[idx[:n_train]]\n",
    "df_val = df_base.iloc[idx[n_train:n_train+n_val]]\n",
    "df_test = df_base.iloc[idx[n_train:n_train+n_val:]]"
   ]
  },
  {
   "cell_type": "code",
   "execution_count": 64,
   "id": "7d50beba-b623-4679-9a80-c8c154783b4c",
   "metadata": {},
   "outputs": [],
   "source": [
    "y_train = df_train.final_price\n",
    "y_val  = df_val.final_price\n",
    "y_test = df_test.final_price\n",
    "\n",
    "\n",
    "del df_train[\"final_price\"]\n",
    "del df_val[\"final_price\"]\n",
    "del df_test[\"final_price\"]"
   ]
  },
  {
   "cell_type": "code",
   "execution_count": 65,
   "id": "9865d85a-51d7-4c05-a950-c0042dc96f45",
   "metadata": {},
   "outputs": [],
   "source": [
    "df_full_train = pd.concat([df_train, df_val])\n",
    "df_full_train = df_full_train.reset_index(drop=True)\n",
    "df_test = df_test.reset_index(drop = True)"
   ]
  },
  {
   "cell_type": "code",
   "execution_count": 66,
   "id": "0d28ecff-7876-4947-8ff9-25ff5ef7f7c7",
   "metadata": {},
   "outputs": [],
   "source": [
    "x_full_train = df_full_train.fillna(0).values"
   ]
  },
  {
   "cell_type": "code",
   "execution_count": 67,
   "id": "666e2bda-0f26-4303-80af-df82faa24e13",
   "metadata": {},
   "outputs": [
    {
     "data": {
      "text/plain": [
       "array([[  32. , 1000. ,   15.6],\n",
       "       [   8. ,  512. ,   13.3],\n",
       "       [   8. ,  512. ,   15.6],\n",
       "       ...,\n",
       "       [   8. ,  256. ,   15.6],\n",
       "       [  16. ,  512. ,   15.6],\n",
       "       [  16. ,  512. ,   15.6]])"
      ]
     },
     "execution_count": 67,
     "metadata": {},
     "output_type": "execute_result"
    }
   ],
   "source": [
    "x_full_train"
   ]
  },
  {
   "cell_type": "code",
   "execution_count": 68,
   "id": "681915ef-a493-4ddd-9b5f-3e99d81acb22",
   "metadata": {},
   "outputs": [],
   "source": [
    "y_full_train = np.concatenate([y_train, y_pred])"
   ]
  },
  {
   "cell_type": "code",
   "execution_count": 69,
   "id": "51bb9b3a-a454-4313-9bfb-3e32cc8a2e0e",
   "metadata": {},
   "outputs": [
    {
     "data": {
      "text/plain": [
       "array([1592.89      , 1349.        ,  549.        , ...,  538.9776691 ,\n",
       "       1320.08941225,  898.64707387])"
      ]
     },
     "execution_count": 69,
     "metadata": {},
     "output_type": "execute_result"
    }
   ],
   "source": [
    "y_full_train"
   ]
  },
  {
   "cell_type": "code",
   "execution_count": 70,
   "id": "38d86050-2dc9-4b5e-a70e-350bfed45edf",
   "metadata": {},
   "outputs": [],
   "source": [
    "w0, w = train_linear_regression_reg(x_full_train, y_full_train, r = 0.001)"
   ]
  },
  {
   "cell_type": "code",
   "execution_count": 71,
   "id": "cfd123b3-2be0-4a6f-976a-415f05fb01c7",
   "metadata": {},
   "outputs": [
    {
     "data": {
      "text/plain": [
       "np.float64(631.753550426132)"
      ]
     },
     "execution_count": 71,
     "metadata": {},
     "output_type": "execute_result"
    }
   ],
   "source": [
    "x_test = df_test.fillna(0).values\n",
    "y_pred = w0 + x_test.dot(w)\n",
    "score = rmse(y_test, y_pred)\n",
    "score"
   ]
  },
  {
   "cell_type": "code",
   "execution_count": null,
   "id": "10a4b5a3-6760-42d9-9016-31799055e80f",
   "metadata": {},
   "outputs": [],
   "source": []
  }
 ],
 "metadata": {
  "kernelspec": {
   "display_name": "Python [conda env:base] *",
   "language": "python",
   "name": "conda-base-py"
  },
  "language_info": {
   "codemirror_mode": {
    "name": "ipython",
    "version": 3
   },
   "file_extension": ".py",
   "mimetype": "text/x-python",
   "name": "python",
   "nbconvert_exporter": "python",
   "pygments_lexer": "ipython3",
   "version": "3.13.5"
  }
 },
 "nbformat": 4,
 "nbformat_minor": 5
}
